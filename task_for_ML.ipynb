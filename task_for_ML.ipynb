{
 "cells": [
  {
   "cell_type": "code",
   "execution_count": 1,
   "metadata": {},
   "outputs": [],
   "source": [
    "import pandas as pd\n",
    "import matplotlib.pyplot as plt\n",
    "import os\n",
    "from numpy.linalg import svd\n",
    "import numpy as np\n",
    "from sklearn.model_selection import train_test_split\n",
    "from sklearn.preprocessing import StandardScaler\n",
    "%matplotlib inline\n"
   ]
  },
  {
   "cell_type": "code",
   "execution_count": 2,
   "metadata": {},
   "outputs": [],
   "source": [
    "data=pd.read_csv(os.path.join(os.getcwd(),'train.csv'))"
   ]
  },
  {
   "cell_type": "markdown",
   "metadata": {},
   "source": [
    "## Просмотр датасета"
   ]
  },
  {
   "cell_type": "code",
   "execution_count": 3,
   "metadata": {},
   "outputs": [
    {
     "data": {
      "text/html": [
       "<div>\n",
       "<style scoped>\n",
       "    .dataframe tbody tr th:only-of-type {\n",
       "        vertical-align: middle;\n",
       "    }\n",
       "\n",
       "    .dataframe tbody tr th {\n",
       "        vertical-align: top;\n",
       "    }\n",
       "\n",
       "    .dataframe thead th {\n",
       "        text-align: right;\n",
       "    }\n",
       "</style>\n",
       "<table border=\"1\" class=\"dataframe\">\n",
       "  <thead>\n",
       "    <tr style=\"text-align: right;\">\n",
       "      <th></th>\n",
       "      <th>repository_name</th>\n",
       "      <th>commit_hash</th>\n",
       "      <th>commit_date</th>\n",
       "      <th>commit_author</th>\n",
       "      <th>commit_message</th>\n",
       "      <th>bugs</th>\n",
       "    </tr>\n",
       "  </thead>\n",
       "  <tbody>\n",
       "    <tr>\n",
       "      <th>0</th>\n",
       "      <td>mlm</td>\n",
       "      <td>b28abb42</td>\n",
       "      <td>2020-06-12T14:26:12</td>\n",
       "      <td>Victor</td>\n",
       "      <td>объяснения предсказаний с помощью lime</td>\n",
       "      <td>4</td>\n",
       "    </tr>\n",
       "    <tr>\n",
       "      <th>1</th>\n",
       "      <td>mlm</td>\n",
       "      <td>438b5c4d</td>\n",
       "      <td>2020-06-12T11:53:10</td>\n",
       "      <td>Victor</td>\n",
       "      <td>Поставил lime вместо eli5</td>\n",
       "      <td>3</td>\n",
       "    </tr>\n",
       "    <tr>\n",
       "      <th>2</th>\n",
       "      <td>mlm</td>\n",
       "      <td>8e6e4f31</td>\n",
       "      <td>2020-06-11T15:19:03</td>\n",
       "      <td>Victor</td>\n",
       "      <td>Скрипт для создния пакетов обновления</td>\n",
       "      <td>4</td>\n",
       "    </tr>\n",
       "    <tr>\n",
       "      <th>3</th>\n",
       "      <td>mlm</td>\n",
       "      <td>5e0956a6</td>\n",
       "      <td>2020-06-11T10:42:29</td>\n",
       "      <td>Victor</td>\n",
       "      <td>Сортировка весов по убыванию</td>\n",
       "      <td>3</td>\n",
       "    </tr>\n",
       "    <tr>\n",
       "      <th>4</th>\n",
       "      <td>mlm</td>\n",
       "      <td>b9f4b40c</td>\n",
       "      <td>2020-06-11T09:25:19</td>\n",
       "      <td>Victor</td>\n",
       "      <td>не надо конвертировать массив до операции по с...</td>\n",
       "      <td>7</td>\n",
       "    </tr>\n",
       "    <tr>\n",
       "      <th>...</th>\n",
       "      <td>...</td>\n",
       "      <td>...</td>\n",
       "      <td>...</td>\n",
       "      <td>...</td>\n",
       "      <td>...</td>\n",
       "      <td>...</td>\n",
       "    </tr>\n",
       "    <tr>\n",
       "      <th>95</th>\n",
       "      <td>conductor</td>\n",
       "      <td>ae0c434a</td>\n",
       "      <td>2020-05-21T13:30:16</td>\n",
       "      <td>Wendy</td>\n",
       "      <td>Update src/express.py</td>\n",
       "      <td>1</td>\n",
       "    </tr>\n",
       "    <tr>\n",
       "      <th>96</th>\n",
       "      <td>conductor</td>\n",
       "      <td>75c7c968</td>\n",
       "      <td>2020-05-14T15:05:18</td>\n",
       "      <td>Victor</td>\n",
       "      <td>Поменял название полей для создания туней в со...</td>\n",
       "      <td>9</td>\n",
       "    </tr>\n",
       "    <tr>\n",
       "      <th>97</th>\n",
       "      <td>conductor</td>\n",
       "      <td>ae592bde</td>\n",
       "      <td>2020-05-14T13:59:17</td>\n",
       "      <td>Victor</td>\n",
       "      <td>Удаление всех образов по имени</td>\n",
       "      <td>4</td>\n",
       "    </tr>\n",
       "    <tr>\n",
       "      <th>98</th>\n",
       "      <td>conductor</td>\n",
       "      <td>750982bd</td>\n",
       "      <td>2020-05-13T12:57:54</td>\n",
       "      <td>Victor</td>\n",
       "      <td>Не создавать директорию если в конце есть точк...</td>\n",
       "      <td>8</td>\n",
       "    </tr>\n",
       "    <tr>\n",
       "      <th>99</th>\n",
       "      <td>conductor</td>\n",
       "      <td>77518c79</td>\n",
       "      <td>2020-05-08T16:17:29</td>\n",
       "      <td>Victor</td>\n",
       "      <td>Download rules twhen suricata installed</td>\n",
       "      <td>4</td>\n",
       "    </tr>\n",
       "  </tbody>\n",
       "</table>\n",
       "<p>100 rows × 6 columns</p>\n",
       "</div>"
      ],
      "text/plain": [
       "   repository_name commit_hash          commit_date commit_author  \\\n",
       "0              mlm    b28abb42  2020-06-12T14:26:12        Victor   \n",
       "1              mlm    438b5c4d  2020-06-12T11:53:10        Victor   \n",
       "2              mlm    8e6e4f31  2020-06-11T15:19:03        Victor   \n",
       "3              mlm    5e0956a6  2020-06-11T10:42:29        Victor   \n",
       "4              mlm    b9f4b40c  2020-06-11T09:25:19        Victor   \n",
       "..             ...         ...                  ...           ...   \n",
       "95       conductor    ae0c434a  2020-05-21T13:30:16         Wendy   \n",
       "96       conductor    75c7c968  2020-05-14T15:05:18        Victor   \n",
       "97       conductor    ae592bde  2020-05-14T13:59:17        Victor   \n",
       "98       conductor    750982bd  2020-05-13T12:57:54        Victor   \n",
       "99       conductor    77518c79  2020-05-08T16:17:29        Victor   \n",
       "\n",
       "                                       commit_message  bugs  \n",
       "0              объяснения предсказаний с помощью lime     4  \n",
       "1                           Поставил lime вместо eli5     3  \n",
       "2               Скрипт для создния пакетов обновления     4  \n",
       "3                        Сортировка весов по убыванию     3  \n",
       "4   не надо конвертировать массив до операции по с...     7  \n",
       "..                                                ...   ...  \n",
       "95                              Update src/express.py     1  \n",
       "96  Поменял название полей для создания туней в со...     9  \n",
       "97                     Удаление всех образов по имени     4  \n",
       "98  Не создавать директорию если в конце есть точк...     8  \n",
       "99            Download rules twhen suricata installed     4  \n",
       "\n",
       "[100 rows x 6 columns]"
      ]
     },
     "execution_count": 3,
     "metadata": {},
     "output_type": "execute_result"
    }
   ],
   "source": [
    "data.head(100)"
   ]
  },
  {
   "cell_type": "code",
   "execution_count": 4,
   "metadata": {},
   "outputs": [
    {
     "data": {
      "text/html": [
       "<div>\n",
       "<style scoped>\n",
       "    .dataframe tbody tr th:only-of-type {\n",
       "        vertical-align: middle;\n",
       "    }\n",
       "\n",
       "    .dataframe tbody tr th {\n",
       "        vertical-align: top;\n",
       "    }\n",
       "\n",
       "    .dataframe thead th {\n",
       "        text-align: right;\n",
       "    }\n",
       "</style>\n",
       "<table border=\"1\" class=\"dataframe\">\n",
       "  <thead>\n",
       "    <tr style=\"text-align: right;\">\n",
       "      <th></th>\n",
       "      <th>bugs</th>\n",
       "    </tr>\n",
       "  </thead>\n",
       "  <tbody>\n",
       "    <tr>\n",
       "      <th>count</th>\n",
       "      <td>319.000000</td>\n",
       "    </tr>\n",
       "    <tr>\n",
       "      <th>mean</th>\n",
       "      <td>2.996865</td>\n",
       "    </tr>\n",
       "    <tr>\n",
       "      <th>std</th>\n",
       "      <td>1.855636</td>\n",
       "    </tr>\n",
       "    <tr>\n",
       "      <th>min</th>\n",
       "      <td>0.000000</td>\n",
       "    </tr>\n",
       "    <tr>\n",
       "      <th>25%</th>\n",
       "      <td>2.000000</td>\n",
       "    </tr>\n",
       "    <tr>\n",
       "      <th>50%</th>\n",
       "      <td>3.000000</td>\n",
       "    </tr>\n",
       "    <tr>\n",
       "      <th>75%</th>\n",
       "      <td>4.000000</td>\n",
       "    </tr>\n",
       "    <tr>\n",
       "      <th>max</th>\n",
       "      <td>12.000000</td>\n",
       "    </tr>\n",
       "  </tbody>\n",
       "</table>\n",
       "</div>"
      ],
      "text/plain": [
       "             bugs\n",
       "count  319.000000\n",
       "mean     2.996865\n",
       "std      1.855636\n",
       "min      0.000000\n",
       "25%      2.000000\n",
       "50%      3.000000\n",
       "75%      4.000000\n",
       "max     12.000000"
      ]
     },
     "execution_count": 4,
     "metadata": {},
     "output_type": "execute_result"
    }
   ],
   "source": [
    "data.describe()"
   ]
  },
  {
   "cell_type": "code",
   "execution_count": 5,
   "metadata": {},
   "outputs": [
    {
     "name": "stdout",
     "output_type": "stream",
     "text": [
      "<class 'pandas.core.frame.DataFrame'>\n",
      "RangeIndex: 319 entries, 0 to 318\n",
      "Data columns (total 6 columns):\n",
      " #   Column           Non-Null Count  Dtype \n",
      "---  ------           --------------  ----- \n",
      " 0   repository_name  319 non-null    object\n",
      " 1   commit_hash      319 non-null    object\n",
      " 2   commit_date      319 non-null    object\n",
      " 3   commit_author    319 non-null    object\n",
      " 4   commit_message   319 non-null    object\n",
      " 5   bugs             319 non-null    int64 \n",
      "dtypes: int64(1), object(5)\n",
      "memory usage: 15.1+ KB\n"
     ]
    }
   ],
   "source": [
    "data.info()"
   ]
  },
  {
   "cell_type": "code",
   "execution_count": 6,
   "metadata": {},
   "outputs": [],
   "source": [
    "data.drop(['commit_hash'],axis=1,inplace=True)"
   ]
  },
  {
   "cell_type": "code",
   "execution_count": 7,
   "metadata": {},
   "outputs": [
    {
     "data": {
      "text/plain": [
       "<matplotlib.axes._subplots.AxesSubplot at 0x247889b1348>"
      ]
     },
     "execution_count": 7,
     "metadata": {},
     "output_type": "execute_result"
    },
    {
     "data": {
      "image/png": "[encoded data removed]",
      "text/plain": [
       "<Figure size 432x288 with 1 Axes>"
      ]
     },
     "metadata": {
      "needs_background": "light"
     },
     "output_type": "display_data"
    }
   ],
   "source": [
    "data['commit_author'].hist()"
   ]
  },
  {
   "cell_type": "code",
   "execution_count": 8,
   "metadata": {},
   "outputs": [
    {
     "data": {
      "text/plain": [
       "Victor     134\n",
       "Mallory     67\n",
       "Wendy       48\n",
       "Dabe        42\n",
       "Trudy        9\n",
       "Eve          9\n",
       "Carol        4\n",
       "Bob          2\n",
       "Alice        2\n",
       "Peggy        2\n",
       "Name: commit_author, dtype: int64"
      ]
     },
     "execution_count": 8,
     "metadata": {},
     "output_type": "execute_result"
    }
   ],
   "source": [
    "data['commit_author'].value_counts()"
   ]
  },
  {
   "cell_type": "code",
   "execution_count": 9,
   "metadata": {},
   "outputs": [
    {
     "data": {
      "text/plain": [
       "commit_author\n",
       "Alice        1\n",
       "Bob          5\n",
       "Carol        6\n",
       "Dabe       101\n",
       "Eve         32\n",
       "Mallory    213\n",
       "Peggy        7\n",
       "Trudy       19\n",
       "Victor     464\n",
       "Wendy      108\n",
       "Name: bugs, dtype: int64"
      ]
     },
     "execution_count": 9,
     "metadata": {},
     "output_type": "execute_result"
    }
   ],
   "source": [
    "data.groupby('commit_author')['bugs'].agg(sum)"
   ]
  },
  {
   "cell_type": "code",
   "execution_count": 10,
   "metadata": {},
   "outputs": [
    {
     "data": {
      "text/plain": [
       "<matplotlib.axes._subplots.AxesSubplot at 0x24788ac4fc8>"
      ]
     },
     "execution_count": 10,
     "metadata": {},
     "output_type": "execute_result"
    },
    {
     "data": {
      "image/png": "[encoded data removed]",
      "text/plain": [
       "<Figure size 432x288 with 1 Axes>"
      ]
     },
     "metadata": {
      "needs_background": "light"
     },
     "output_type": "display_data"
    }
   ],
   "source": [
    "data['repository_name'].hist()\n"
   ]
  },
  {
   "cell_type": "code",
   "execution_count": 11,
   "metadata": {},
   "outputs": [
    {
     "data": {
      "text/plain": [
       "<matplotlib.axes._subplots.AxesSubplot at 0x24788b27788>"
      ]
     },
     "execution_count": 11,
     "metadata": {},
     "output_type": "execute_result"
    },
    {
     "data": {
      "image/png": "[encoded data removed]",
      "text/plain": [
       "<Figure size 432x288 with 1 Axes>"
      ]
     },
     "metadata": {
      "needs_background": "light"
     },
     "output_type": "display_data"
    }
   ],
   "source": [
    "data['bugs'].hist()"
   ]
  },
  {
   "cell_type": "markdown",
   "metadata": {},
   "source": [
    "# добавление признака на основании даннных датасета"
   ]
  },
  {
   "cell_type": "code",
   "execution_count": 12,
   "metadata": {},
   "outputs": [
    {
     "data": {
      "text/html": [
       "<div>\n",
       "<style scoped>\n",
       "    .dataframe tbody tr th:only-of-type {\n",
       "        vertical-align: middle;\n",
       "    }\n",
       "\n",
       "    .dataframe tbody tr th {\n",
       "        vertical-align: top;\n",
       "    }\n",
       "\n",
       "    .dataframe thead th {\n",
       "        text-align: right;\n",
       "    }\n",
       "</style>\n",
       "<table border=\"1\" class=\"dataframe\">\n",
       "  <thead>\n",
       "    <tr style=\"text-align: right;\">\n",
       "      <th></th>\n",
       "      <th>repository_name</th>\n",
       "      <th>commit_date</th>\n",
       "      <th>commit_author</th>\n",
       "      <th>commit_message</th>\n",
       "      <th>bugs</th>\n",
       "      <th>mean_bugs</th>\n",
       "    </tr>\n",
       "  </thead>\n",
       "  <tbody>\n",
       "    <tr>\n",
       "      <th>0</th>\n",
       "      <td>mlm</td>\n",
       "      <td>2020-06-12T14:26:12</td>\n",
       "      <td>Victor</td>\n",
       "      <td>объяснения предсказаний с помощью lime</td>\n",
       "      <td>4</td>\n",
       "      <td>5.102564</td>\n",
       "    </tr>\n",
       "    <tr>\n",
       "      <th>1</th>\n",
       "      <td>mlm</td>\n",
       "      <td>2020-06-12T11:53:10</td>\n",
       "      <td>Victor</td>\n",
       "      <td>Поставил lime вместо eli5</td>\n",
       "      <td>3</td>\n",
       "      <td>5.102564</td>\n",
       "    </tr>\n",
       "    <tr>\n",
       "      <th>2</th>\n",
       "      <td>mlm</td>\n",
       "      <td>2020-06-11T15:19:03</td>\n",
       "      <td>Victor</td>\n",
       "      <td>Скрипт для создния пакетов обновления</td>\n",
       "      <td>4</td>\n",
       "      <td>5.102564</td>\n",
       "    </tr>\n",
       "    <tr>\n",
       "      <th>3</th>\n",
       "      <td>mlm</td>\n",
       "      <td>2020-06-11T10:42:29</td>\n",
       "      <td>Victor</td>\n",
       "      <td>Сортировка весов по убыванию</td>\n",
       "      <td>3</td>\n",
       "      <td>5.102564</td>\n",
       "    </tr>\n",
       "    <tr>\n",
       "      <th>4</th>\n",
       "      <td>mlm</td>\n",
       "      <td>2020-06-11T09:25:19</td>\n",
       "      <td>Victor</td>\n",
       "      <td>не надо конвертировать массив до операции по с...</td>\n",
       "      <td>7</td>\n",
       "      <td>5.102564</td>\n",
       "    </tr>\n",
       "    <tr>\n",
       "      <th>...</th>\n",
       "      <td>...</td>\n",
       "      <td>...</td>\n",
       "      <td>...</td>\n",
       "      <td>...</td>\n",
       "      <td>...</td>\n",
       "      <td>...</td>\n",
       "    </tr>\n",
       "    <tr>\n",
       "      <th>314</th>\n",
       "      <td>sensor</td>\n",
       "      <td>2020-03-23T12:54:35</td>\n",
       "      <td>Dabe</td>\n",
       "      <td>setting hostname</td>\n",
       "      <td>1</td>\n",
       "      <td>1.428571</td>\n",
       "    </tr>\n",
       "    <tr>\n",
       "      <th>315</th>\n",
       "      <td>sensor</td>\n",
       "      <td>2020-03-23T12:30:52</td>\n",
       "      <td>Dabe</td>\n",
       "      <td>heralding default dockerfile</td>\n",
       "      <td>2</td>\n",
       "      <td>1.428571</td>\n",
       "    </tr>\n",
       "    <tr>\n",
       "      <th>316</th>\n",
       "      <td>sensor</td>\n",
       "      <td>2020-03-23T11:27:40</td>\n",
       "      <td>Dabe</td>\n",
       "      <td>unnesserity /data path permissions setting</td>\n",
       "      <td>3</td>\n",
       "      <td>1.428571</td>\n",
       "    </tr>\n",
       "    <tr>\n",
       "      <th>317</th>\n",
       "      <td>sensor</td>\n",
       "      <td>2020-03-23T11:20:50</td>\n",
       "      <td>Dabe</td>\n",
       "      <td>added trapconductor</td>\n",
       "      <td>1</td>\n",
       "      <td>1.428571</td>\n",
       "    </tr>\n",
       "    <tr>\n",
       "      <th>318</th>\n",
       "      <td>sensor</td>\n",
       "      <td>2020-03-23T11:07:07</td>\n",
       "      <td>Dabe</td>\n",
       "      <td>sensor</td>\n",
       "      <td>1</td>\n",
       "      <td>1.428571</td>\n",
       "    </tr>\n",
       "  </tbody>\n",
       "</table>\n",
       "<p>319 rows × 6 columns</p>\n",
       "</div>"
      ],
      "text/plain": [
       "    repository_name          commit_date commit_author  \\\n",
       "0               mlm  2020-06-12T14:26:12        Victor   \n",
       "1               mlm  2020-06-12T11:53:10        Victor   \n",
       "2               mlm  2020-06-11T15:19:03        Victor   \n",
       "3               mlm  2020-06-11T10:42:29        Victor   \n",
       "4               mlm  2020-06-11T09:25:19        Victor   \n",
       "..              ...                  ...           ...   \n",
       "314          sensor  2020-03-23T12:54:35          Dabe   \n",
       "315          sensor  2020-03-23T12:30:52          Dabe   \n",
       "316          sensor  2020-03-23T11:27:40          Dabe   \n",
       "317          sensor  2020-03-23T11:20:50          Dabe   \n",
       "318          sensor  2020-03-23T11:07:07          Dabe   \n",
       "\n",
       "                                        commit_message  bugs  mean_bugs  \n",
       "0               объяснения предсказаний с помощью lime     4   5.102564  \n",
       "1                            Поставил lime вместо eli5     3   5.102564  \n",
       "2                Скрипт для создния пакетов обновления     4   5.102564  \n",
       "3                         Сортировка весов по убыванию     3   5.102564  \n",
       "4    не надо конвертировать массив до операции по с...     7   5.102564  \n",
       "..                                                 ...   ...        ...  \n",
       "314                                   setting hostname     1   1.428571  \n",
       "315                       heralding default dockerfile     2   1.428571  \n",
       "316         unnesserity /data path permissions setting     3   1.428571  \n",
       "317                                added trapconductor     1   1.428571  \n",
       "318                                             sensor     1   1.428571  \n",
       "\n",
       "[319 rows x 6 columns]"
      ]
     },
     "execution_count": 12,
     "metadata": {},
     "output_type": "execute_result"
    }
   ],
   "source": [
    "mean_bugs=data.groupby(['commit_author','repository_name'],as_index=False)[['bugs']].mean().rename(columns={'bugs': 'mean_bugs'})\n",
    "data = pd.merge(data, mean_bugs, on=['commit_author','repository_name'], how='left')\n",
    "data"
   ]
  },
  {
   "cell_type": "code",
   "execution_count": 13,
   "metadata": {},
   "outputs": [],
   "source": [
    "data['commit_len']=data['commit_message'].map(lambda x:len(x.split(' ')))"
   ]
  },
  {
   "cell_type": "markdown",
   "metadata": {},
   "source": [
    "\n",
    "<blockquote>Из даты выделим день и месяц</blockquote>"
   ]
  },
  {
   "cell_type": "code",
   "execution_count": 14,
   "metadata": {},
   "outputs": [
    {
     "data": {
      "text/html": [
       "<div>\n",
       "<style scoped>\n",
       "    .dataframe tbody tr th:only-of-type {\n",
       "        vertical-align: middle;\n",
       "    }\n",
       "\n",
       "    .dataframe tbody tr th {\n",
       "        vertical-align: top;\n",
       "    }\n",
       "\n",
       "    .dataframe thead th {\n",
       "        text-align: right;\n",
       "    }\n",
       "</style>\n",
       "<table border=\"1\" class=\"dataframe\">\n",
       "  <thead>\n",
       "    <tr style=\"text-align: right;\">\n",
       "      <th></th>\n",
       "      <th>repository_name</th>\n",
       "      <th>commit_author</th>\n",
       "      <th>commit_message</th>\n",
       "      <th>bugs</th>\n",
       "      <th>mean_bugs</th>\n",
       "      <th>commit_len</th>\n",
       "      <th>day</th>\n",
       "      <th>month</th>\n",
       "    </tr>\n",
       "  </thead>\n",
       "  <tbody>\n",
       "    <tr>\n",
       "      <th>0</th>\n",
       "      <td>mlm</td>\n",
       "      <td>Victor</td>\n",
       "      <td>объяснения предсказаний с помощью lime</td>\n",
       "      <td>4</td>\n",
       "      <td>5.102564</td>\n",
       "      <td>5</td>\n",
       "      <td>12</td>\n",
       "      <td>6</td>\n",
       "    </tr>\n",
       "    <tr>\n",
       "      <th>1</th>\n",
       "      <td>mlm</td>\n",
       "      <td>Victor</td>\n",
       "      <td>Поставил lime вместо eli5</td>\n",
       "      <td>3</td>\n",
       "      <td>5.102564</td>\n",
       "      <td>4</td>\n",
       "      <td>12</td>\n",
       "      <td>6</td>\n",
       "    </tr>\n",
       "    <tr>\n",
       "      <th>2</th>\n",
       "      <td>mlm</td>\n",
       "      <td>Victor</td>\n",
       "      <td>Скрипт для создния пакетов обновления</td>\n",
       "      <td>4</td>\n",
       "      <td>5.102564</td>\n",
       "      <td>5</td>\n",
       "      <td>11</td>\n",
       "      <td>6</td>\n",
       "    </tr>\n",
       "    <tr>\n",
       "      <th>3</th>\n",
       "      <td>mlm</td>\n",
       "      <td>Victor</td>\n",
       "      <td>Сортировка весов по убыванию</td>\n",
       "      <td>3</td>\n",
       "      <td>5.102564</td>\n",
       "      <td>4</td>\n",
       "      <td>11</td>\n",
       "      <td>6</td>\n",
       "    </tr>\n",
       "    <tr>\n",
       "      <th>4</th>\n",
       "      <td>mlm</td>\n",
       "      <td>Victor</td>\n",
       "      <td>не надо конвертировать массив до операции по с...</td>\n",
       "      <td>7</td>\n",
       "      <td>5.102564</td>\n",
       "      <td>9</td>\n",
       "      <td>11</td>\n",
       "      <td>6</td>\n",
       "    </tr>\n",
       "    <tr>\n",
       "      <th>...</th>\n",
       "      <td>...</td>\n",
       "      <td>...</td>\n",
       "      <td>...</td>\n",
       "      <td>...</td>\n",
       "      <td>...</td>\n",
       "      <td>...</td>\n",
       "      <td>...</td>\n",
       "      <td>...</td>\n",
       "    </tr>\n",
       "    <tr>\n",
       "      <th>314</th>\n",
       "      <td>sensor</td>\n",
       "      <td>Dabe</td>\n",
       "      <td>setting hostname</td>\n",
       "      <td>1</td>\n",
       "      <td>1.428571</td>\n",
       "      <td>2</td>\n",
       "      <td>23</td>\n",
       "      <td>3</td>\n",
       "    </tr>\n",
       "    <tr>\n",
       "      <th>315</th>\n",
       "      <td>sensor</td>\n",
       "      <td>Dabe</td>\n",
       "      <td>heralding default dockerfile</td>\n",
       "      <td>2</td>\n",
       "      <td>1.428571</td>\n",
       "      <td>3</td>\n",
       "      <td>23</td>\n",
       "      <td>3</td>\n",
       "    </tr>\n",
       "    <tr>\n",
       "      <th>316</th>\n",
       "      <td>sensor</td>\n",
       "      <td>Dabe</td>\n",
       "      <td>unnesserity /data path permissions setting</td>\n",
       "      <td>3</td>\n",
       "      <td>1.428571</td>\n",
       "      <td>5</td>\n",
       "      <td>23</td>\n",
       "      <td>3</td>\n",
       "    </tr>\n",
       "    <tr>\n",
       "      <th>317</th>\n",
       "      <td>sensor</td>\n",
       "      <td>Dabe</td>\n",
       "      <td>added trapconductor</td>\n",
       "      <td>1</td>\n",
       "      <td>1.428571</td>\n",
       "      <td>2</td>\n",
       "      <td>23</td>\n",
       "      <td>3</td>\n",
       "    </tr>\n",
       "    <tr>\n",
       "      <th>318</th>\n",
       "      <td>sensor</td>\n",
       "      <td>Dabe</td>\n",
       "      <td>sensor</td>\n",
       "      <td>1</td>\n",
       "      <td>1.428571</td>\n",
       "      <td>1</td>\n",
       "      <td>23</td>\n",
       "      <td>3</td>\n",
       "    </tr>\n",
       "  </tbody>\n",
       "</table>\n",
       "<p>319 rows × 8 columns</p>\n",
       "</div>"
      ],
      "text/plain": [
       "    repository_name commit_author  \\\n",
       "0               mlm        Victor   \n",
       "1               mlm        Victor   \n",
       "2               mlm        Victor   \n",
       "3               mlm        Victor   \n",
       "4               mlm        Victor   \n",
       "..              ...           ...   \n",
       "314          sensor          Dabe   \n",
       "315          sensor          Dabe   \n",
       "316          sensor          Dabe   \n",
       "317          sensor          Dabe   \n",
       "318          sensor          Dabe   \n",
       "\n",
       "                                        commit_message  bugs  mean_bugs  \\\n",
       "0               объяснения предсказаний с помощью lime     4   5.102564   \n",
       "1                            Поставил lime вместо eli5     3   5.102564   \n",
       "2                Скрипт для создния пакетов обновления     4   5.102564   \n",
       "3                         Сортировка весов по убыванию     3   5.102564   \n",
       "4    не надо конвертировать массив до операции по с...     7   5.102564   \n",
       "..                                                 ...   ...        ...   \n",
       "314                                   setting hostname     1   1.428571   \n",
       "315                       heralding default dockerfile     2   1.428571   \n",
       "316         unnesserity /data path permissions setting     3   1.428571   \n",
       "317                                added trapconductor     1   1.428571   \n",
       "318                                             sensor     1   1.428571   \n",
       "\n",
       "     commit_len  day  month  \n",
       "0             5   12      6  \n",
       "1             4   12      6  \n",
       "2             5   11      6  \n",
       "3             4   11      6  \n",
       "4             9   11      6  \n",
       "..          ...  ...    ...  \n",
       "314           2   23      3  \n",
       "315           3   23      3  \n",
       "316           5   23      3  \n",
       "317           2   23      3  \n",
       "318           1   23      3  \n",
       "\n",
       "[319 rows x 8 columns]"
      ]
     },
     "execution_count": 14,
     "metadata": {},
     "output_type": "execute_result"
    }
   ],
   "source": [
    "data['commit_date']=pd.to_datetime( data['commit_date'])\n",
    "data['day']=data['commit_date'].apply(lambda x:x.day)\n",
    "data['month']=data['commit_date'].apply(lambda x:x.month)\n",
    "data.drop(columns=['commit_date'],inplace=True)\n",
    "data\n"
   ]
  },
  {
   "cell_type": "code",
   "execution_count": 15,
   "metadata": {},
   "outputs": [
    {
     "data": {
      "text/html": [
       "<div>\n",
       "<style scoped>\n",
       "    .dataframe tbody tr th:only-of-type {\n",
       "        vertical-align: middle;\n",
       "    }\n",
       "\n",
       "    .dataframe tbody tr th {\n",
       "        vertical-align: top;\n",
       "    }\n",
       "\n",
       "    .dataframe thead th {\n",
       "        text-align: right;\n",
       "    }\n",
       "</style>\n",
       "<table border=\"1\" class=\"dataframe\">\n",
       "  <thead>\n",
       "    <tr style=\"text-align: right;\">\n",
       "      <th></th>\n",
       "      <th>repository_name</th>\n",
       "      <th>commit_author</th>\n",
       "      <th>commit_message</th>\n",
       "      <th>bugs</th>\n",
       "      <th>mean_bugs</th>\n",
       "      <th>commit_len</th>\n",
       "      <th>day</th>\n",
       "      <th>month</th>\n",
       "    </tr>\n",
       "  </thead>\n",
       "  <tbody>\n",
       "    <tr>\n",
       "      <th>4</th>\n",
       "      <td>mlm</td>\n",
       "      <td>Victor</td>\n",
       "      <td>не надо конвертировать массив до операции по с...</td>\n",
       "      <td>7</td>\n",
       "      <td>5.102564</td>\n",
       "      <td>9</td>\n",
       "      <td>11</td>\n",
       "      <td>6</td>\n",
       "    </tr>\n",
       "    <tr>\n",
       "      <th>5</th>\n",
       "      <td>mlm</td>\n",
       "      <td>Peggy</td>\n",
       "      <td>Добавлено больше логирования и фикс до частичн...</td>\n",
       "      <td>6</td>\n",
       "      <td>3.500000</td>\n",
       "      <td>8</td>\n",
       "      <td>11</td>\n",
       "      <td>6</td>\n",
       "    </tr>\n",
       "    <tr>\n",
       "      <th>12</th>\n",
       "      <td>mlm</td>\n",
       "      <td>Victor</td>\n",
       "      <td>Не сохранять неизвестные поля, на них нельзя о...</td>\n",
       "      <td>11</td>\n",
       "      <td>5.102564</td>\n",
       "      <td>14</td>\n",
       "      <td>10</td>\n",
       "      <td>6</td>\n",
       "    </tr>\n",
       "    <tr>\n",
       "      <th>13</th>\n",
       "      <td>mlm</td>\n",
       "      <td>Victor</td>\n",
       "      <td>hdf5 не умеет хранить матрицы различных типов,...</td>\n",
       "      <td>10</td>\n",
       "      <td>5.102564</td>\n",
       "      <td>13</td>\n",
       "      <td>10</td>\n",
       "      <td>6</td>\n",
       "    </tr>\n",
       "    <tr>\n",
       "      <th>15</th>\n",
       "      <td>mlm</td>\n",
       "      <td>Victor</td>\n",
       "      <td>тип и всякие статичные данные пусть лежат в да...</td>\n",
       "      <td>7</td>\n",
       "      <td>5.102564</td>\n",
       "      <td>9</td>\n",
       "      <td>10</td>\n",
       "      <td>6</td>\n",
       "    </tr>\n",
       "    <tr>\n",
       "      <th>19</th>\n",
       "      <td>mlm</td>\n",
       "      <td>Victor</td>\n",
       "      <td>Пересмотрели архитектуру, теперь все запросы ч...</td>\n",
       "      <td>6</td>\n",
       "      <td>5.102564</td>\n",
       "      <td>7</td>\n",
       "      <td>5</td>\n",
       "      <td>6</td>\n",
       "    </tr>\n",
       "    <tr>\n",
       "      <th>28</th>\n",
       "      <td>mlm</td>\n",
       "      <td>Victor</td>\n",
       "      <td>no feature names in queue calls</td>\n",
       "      <td>8</td>\n",
       "      <td>5.102564</td>\n",
       "      <td>6</td>\n",
       "      <td>21</td>\n",
       "      <td>3</td>\n",
       "    </tr>\n",
       "    <tr>\n",
       "      <th>30</th>\n",
       "      <td>mlm</td>\n",
       "      <td>Victor</td>\n",
       "      <td>Default rabbitMQ NETWORK ip</td>\n",
       "      <td>6</td>\n",
       "      <td>5.102564</td>\n",
       "      <td>4</td>\n",
       "      <td>9</td>\n",
       "      <td>3</td>\n",
       "    </tr>\n",
       "    <tr>\n",
       "      <th>31</th>\n",
       "      <td>mlm</td>\n",
       "      <td>Victor</td>\n",
       "      <td>Docker COPY cannot in directories</td>\n",
       "      <td>7</td>\n",
       "      <td>5.102564</td>\n",
       "      <td>5</td>\n",
       "      <td>9</td>\n",
       "      <td>3</td>\n",
       "    </tr>\n",
       "    <tr>\n",
       "      <th>32</th>\n",
       "      <td>mlm</td>\n",
       "      <td>Victor</td>\n",
       "      <td>Removed default freeze package</td>\n",
       "      <td>6</td>\n",
       "      <td>5.102564</td>\n",
       "      <td>4</td>\n",
       "      <td>9</td>\n",
       "      <td>3</td>\n",
       "    </tr>\n",
       "    <tr>\n",
       "      <th>34</th>\n",
       "      <td>mlm</td>\n",
       "      <td>Victor</td>\n",
       "      <td>global variable assignment without global</td>\n",
       "      <td>7</td>\n",
       "      <td>5.102564</td>\n",
       "      <td>5</td>\n",
       "      <td>9</td>\n",
       "      <td>3</td>\n",
       "    </tr>\n",
       "    <tr>\n",
       "      <th>35</th>\n",
       "      <td>mlm</td>\n",
       "      <td>Victor</td>\n",
       "      <td>Saving unknown labels on emergency saving</td>\n",
       "      <td>9</td>\n",
       "      <td>5.102564</td>\n",
       "      <td>6</td>\n",
       "      <td>8</td>\n",
       "      <td>3</td>\n",
       "    </tr>\n",
       "    <tr>\n",
       "      <th>36</th>\n",
       "      <td>mlm</td>\n",
       "      <td>Victor</td>\n",
       "      <td>Small Fixes in main.py to make it work</td>\n",
       "      <td>12</td>\n",
       "      <td>5.102564</td>\n",
       "      <td>8</td>\n",
       "      <td>8</td>\n",
       "      <td>3</td>\n",
       "    </tr>\n",
       "    <tr>\n",
       "      <th>38</th>\n",
       "      <td>mlm</td>\n",
       "      <td>Victor</td>\n",
       "      <td>Small Fixes in models.py to make it work</td>\n",
       "      <td>12</td>\n",
       "      <td>5.102564</td>\n",
       "      <td>8</td>\n",
       "      <td>8</td>\n",
       "      <td>3</td>\n",
       "    </tr>\n",
       "    <tr>\n",
       "      <th>39</th>\n",
       "      <td>mlm</td>\n",
       "      <td>Victor</td>\n",
       "      <td>JsonMaster as function separator</td>\n",
       "      <td>6</td>\n",
       "      <td>5.102564</td>\n",
       "      <td>4</td>\n",
       "      <td>8</td>\n",
       "      <td>3</td>\n",
       "    </tr>\n",
       "    <tr>\n",
       "      <th>44</th>\n",
       "      <td>standard</td>\n",
       "      <td>Victor</td>\n",
       "      <td>Статус файла на проверке pending или complete</td>\n",
       "      <td>6</td>\n",
       "      <td>3.384615</td>\n",
       "      <td>7</td>\n",
       "      <td>18</td>\n",
       "      <td>5</td>\n",
       "    </tr>\n",
       "    <tr>\n",
       "      <th>60</th>\n",
       "      <td>standard</td>\n",
       "      <td>Wendy</td>\n",
       "      <td>Исправлены ошибки конвертации из DevExtreme в ...</td>\n",
       "      <td>7</td>\n",
       "      <td>2.562500</td>\n",
       "      <td>8</td>\n",
       "      <td>5</td>\n",
       "      <td>5</td>\n",
       "    </tr>\n",
       "    <tr>\n",
       "      <th>96</th>\n",
       "      <td>conductor</td>\n",
       "      <td>Victor</td>\n",
       "      <td>Поменял название полей для создания туней в со...</td>\n",
       "      <td>9</td>\n",
       "      <td>3.833333</td>\n",
       "      <td>12</td>\n",
       "      <td>14</td>\n",
       "      <td>5</td>\n",
       "    </tr>\n",
       "    <tr>\n",
       "      <th>98</th>\n",
       "      <td>conductor</td>\n",
       "      <td>Victor</td>\n",
       "      <td>Не создавать директорию если в конце есть точк...</td>\n",
       "      <td>8</td>\n",
       "      <td>3.833333</td>\n",
       "      <td>11</td>\n",
       "      <td>13</td>\n",
       "      <td>5</td>\n",
       "    </tr>\n",
       "    <tr>\n",
       "      <th>128</th>\n",
       "      <td>conductor</td>\n",
       "      <td>Mallory</td>\n",
       "      <td>wait service to start to prevent memory errrors</td>\n",
       "      <td>6</td>\n",
       "      <td>3.333333</td>\n",
       "      <td>8</td>\n",
       "      <td>15</td>\n",
       "      <td>4</td>\n",
       "    </tr>\n",
       "    <tr>\n",
       "      <th>132</th>\n",
       "      <td>conductor</td>\n",
       "      <td>Mallory</td>\n",
       "      <td>Если Filebeat поле пустое то не нужно создават...</td>\n",
       "      <td>8</td>\n",
       "      <td>3.333333</td>\n",
       "      <td>11</td>\n",
       "      <td>15</td>\n",
       "      <td>4</td>\n",
       "    </tr>\n",
       "    <tr>\n",
       "      <th>140</th>\n",
       "      <td>conductor</td>\n",
       "      <td>Mallory</td>\n",
       "      <td>DELETE /delete kinda dumb; removed /delete in ...</td>\n",
       "      <td>7</td>\n",
       "      <td>3.333333</td>\n",
       "      <td>9</td>\n",
       "      <td>9</td>\n",
       "      <td>4</td>\n",
       "    </tr>\n",
       "    <tr>\n",
       "      <th>146</th>\n",
       "      <td>conductor</td>\n",
       "      <td>Eve</td>\n",
       "      <td>Изменен метод взаимодействия с композами с Pop...</td>\n",
       "      <td>7</td>\n",
       "      <td>4.333333</td>\n",
       "      <td>9</td>\n",
       "      <td>8</td>\n",
       "      <td>4</td>\n",
       "    </tr>\n",
       "    <tr>\n",
       "      <th>150</th>\n",
       "      <td>conductor</td>\n",
       "      <td>Mallory</td>\n",
       "      <td>Popen service enabling/disabling; removing ima...</td>\n",
       "      <td>6</td>\n",
       "      <td>3.333333</td>\n",
       "      <td>8</td>\n",
       "      <td>6</td>\n",
       "      <td>4</td>\n",
       "    </tr>\n",
       "    <tr>\n",
       "      <th>177</th>\n",
       "      <td>conductor</td>\n",
       "      <td>Dabe</td>\n",
       "      <td>More flexible removing of extension in compose...</td>\n",
       "      <td>6</td>\n",
       "      <td>2.600000</td>\n",
       "      <td>8</td>\n",
       "      <td>20</td>\n",
       "      <td>3</td>\n",
       "    </tr>\n",
       "    <tr>\n",
       "      <th>253</th>\n",
       "      <td>sensor</td>\n",
       "      <td>Victor</td>\n",
       "      <td>Обновление pip, чтоб он ставил сразу wheel без...</td>\n",
       "      <td>6</td>\n",
       "      <td>2.234043</td>\n",
       "      <td>9</td>\n",
       "      <td>29</td>\n",
       "      <td>4</td>\n",
       "    </tr>\n",
       "  </tbody>\n",
       "</table>\n",
       "</div>"
      ],
      "text/plain": [
       "    repository_name commit_author  \\\n",
       "4               mlm        Victor   \n",
       "5               mlm         Peggy   \n",
       "12              mlm        Victor   \n",
       "13              mlm        Victor   \n",
       "15              mlm        Victor   \n",
       "19              mlm        Victor   \n",
       "28              mlm        Victor   \n",
       "30              mlm        Victor   \n",
       "31              mlm        Victor   \n",
       "32              mlm        Victor   \n",
       "34              mlm        Victor   \n",
       "35              mlm        Victor   \n",
       "36              mlm        Victor   \n",
       "38              mlm        Victor   \n",
       "39              mlm        Victor   \n",
       "44         standard        Victor   \n",
       "60         standard         Wendy   \n",
       "96        conductor        Victor   \n",
       "98        conductor        Victor   \n",
       "128       conductor       Mallory   \n",
       "132       conductor       Mallory   \n",
       "140       conductor       Mallory   \n",
       "146       conductor           Eve   \n",
       "150       conductor       Mallory   \n",
       "177       conductor          Dabe   \n",
       "253          sensor        Victor   \n",
       "\n",
       "                                        commit_message  bugs  mean_bugs  \\\n",
       "4    не надо конвертировать массив до операции по с...     7   5.102564   \n",
       "5    Добавлено больше логирования и фикс до частичн...     6   3.500000   \n",
       "12   Не сохранять неизвестные поля, на них нельзя о...    11   5.102564   \n",
       "13   hdf5 не умеет хранить матрицы различных типов,...    10   5.102564   \n",
       "15   тип и всякие статичные данные пусть лежат в да...     7   5.102564   \n",
       "19   Пересмотрели архитектуру, теперь все запросы ч...     6   5.102564   \n",
       "28                     no feature names in queue calls     8   5.102564   \n",
       "30                         Default rabbitMQ NETWORK ip     6   5.102564   \n",
       "31                   Docker COPY cannot in directories     7   5.102564   \n",
       "32                      Removed default freeze package     6   5.102564   \n",
       "34           global variable assignment without global     7   5.102564   \n",
       "35           Saving unknown labels on emergency saving     9   5.102564   \n",
       "36              Small Fixes in main.py to make it work    12   5.102564   \n",
       "38            Small Fixes in models.py to make it work    12   5.102564   \n",
       "39                    JsonMaster as function separator     6   5.102564   \n",
       "44       Статус файла на проверке pending или complete     6   3.384615   \n",
       "60   Исправлены ошибки конвертации из DevExtreme в ...     7   2.562500   \n",
       "96   Поменял название полей для создания туней в со...     9   3.833333   \n",
       "98   Не создавать директорию если в конце есть точк...     8   3.833333   \n",
       "128    wait service to start to prevent memory errrors     6   3.333333   \n",
       "132  Если Filebeat поле пустое то не нужно создават...     8   3.333333   \n",
       "140  DELETE /delete kinda dumb; removed /delete in ...     7   3.333333   \n",
       "146  Изменен метод взаимодействия с композами с Pop...     7   4.333333   \n",
       "150  Popen service enabling/disabling; removing ima...     6   3.333333   \n",
       "177  More flexible removing of extension in compose...     6   2.600000   \n",
       "253  Обновление pip, чтоб он ставил сразу wheel без...     6   2.234043   \n",
       "\n",
       "     commit_len  day  month  \n",
       "4             9   11      6  \n",
       "5             8   11      6  \n",
       "12           14   10      6  \n",
       "13           13   10      6  \n",
       "15            9   10      6  \n",
       "19            7    5      6  \n",
       "28            6   21      3  \n",
       "30            4    9      3  \n",
       "31            5    9      3  \n",
       "32            4    9      3  \n",
       "34            5    9      3  \n",
       "35            6    8      3  \n",
       "36            8    8      3  \n",
       "38            8    8      3  \n",
       "39            4    8      3  \n",
       "44            7   18      5  \n",
       "60            8    5      5  \n",
       "96           12   14      5  \n",
       "98           11   13      5  \n",
       "128           8   15      4  \n",
       "132          11   15      4  \n",
       "140           9    9      4  \n",
       "146           9    8      4  \n",
       "150           8    6      4  \n",
       "177           8   20      3  \n",
       "253           9   29      4  "
      ]
     },
     "execution_count": 15,
     "metadata": {},
     "output_type": "execute_result"
    }
   ],
   "source": [
    "data.loc[data['bugs']>5,:]"
   ]
  },
  {
   "cell_type": "code",
   "execution_count": 16,
   "metadata": {},
   "outputs": [
    {
     "data": {
      "text/html": [
       "<div>\n",
       "<style scoped>\n",
       "    .dataframe tbody tr th:only-of-type {\n",
       "        vertical-align: middle;\n",
       "    }\n",
       "\n",
       "    .dataframe tbody tr th {\n",
       "        vertical-align: top;\n",
       "    }\n",
       "\n",
       "    .dataframe thead th {\n",
       "        text-align: right;\n",
       "    }\n",
       "</style>\n",
       "<table border=\"1\" class=\"dataframe\">\n",
       "  <thead>\n",
       "    <tr style=\"text-align: right;\">\n",
       "      <th></th>\n",
       "      <th>repository_name</th>\n",
       "      <th>commit_author</th>\n",
       "      <th>commit_message</th>\n",
       "      <th>bugs</th>\n",
       "      <th>mean_bugs</th>\n",
       "      <th>commit_len</th>\n",
       "      <th>day</th>\n",
       "      <th>month</th>\n",
       "    </tr>\n",
       "  </thead>\n",
       "  <tbody>\n",
       "    <tr>\n",
       "      <th>0</th>\n",
       "      <td>mlm</td>\n",
       "      <td>Victor</td>\n",
       "      <td>объяснения предсказаний с помощью lime</td>\n",
       "      <td>4</td>\n",
       "      <td>5.102564</td>\n",
       "      <td>5</td>\n",
       "      <td>12</td>\n",
       "      <td>6</td>\n",
       "    </tr>\n",
       "    <tr>\n",
       "      <th>1</th>\n",
       "      <td>mlm</td>\n",
       "      <td>Victor</td>\n",
       "      <td>Поставил lime вместо eli5</td>\n",
       "      <td>3</td>\n",
       "      <td>5.102564</td>\n",
       "      <td>4</td>\n",
       "      <td>12</td>\n",
       "      <td>6</td>\n",
       "    </tr>\n",
       "    <tr>\n",
       "      <th>2</th>\n",
       "      <td>mlm</td>\n",
       "      <td>Victor</td>\n",
       "      <td>Скрипт для создния пакетов обновления</td>\n",
       "      <td>4</td>\n",
       "      <td>5.102564</td>\n",
       "      <td>5</td>\n",
       "      <td>11</td>\n",
       "      <td>6</td>\n",
       "    </tr>\n",
       "    <tr>\n",
       "      <th>3</th>\n",
       "      <td>mlm</td>\n",
       "      <td>Victor</td>\n",
       "      <td>Сортировка весов по убыванию</td>\n",
       "      <td>3</td>\n",
       "      <td>5.102564</td>\n",
       "      <td>4</td>\n",
       "      <td>11</td>\n",
       "      <td>6</td>\n",
       "    </tr>\n",
       "    <tr>\n",
       "      <th>4</th>\n",
       "      <td>mlm</td>\n",
       "      <td>Victor</td>\n",
       "      <td>не надо конвертировать массив до операции по с...</td>\n",
       "      <td>7</td>\n",
       "      <td>5.102564</td>\n",
       "      <td>9</td>\n",
       "      <td>11</td>\n",
       "      <td>6</td>\n",
       "    </tr>\n",
       "    <tr>\n",
       "      <th>...</th>\n",
       "      <td>...</td>\n",
       "      <td>...</td>\n",
       "      <td>...</td>\n",
       "      <td>...</td>\n",
       "      <td>...</td>\n",
       "      <td>...</td>\n",
       "      <td>...</td>\n",
       "      <td>...</td>\n",
       "    </tr>\n",
       "    <tr>\n",
       "      <th>314</th>\n",
       "      <td>sensor</td>\n",
       "      <td>Dabe</td>\n",
       "      <td>setting hostname</td>\n",
       "      <td>1</td>\n",
       "      <td>1.428571</td>\n",
       "      <td>2</td>\n",
       "      <td>23</td>\n",
       "      <td>3</td>\n",
       "    </tr>\n",
       "    <tr>\n",
       "      <th>315</th>\n",
       "      <td>sensor</td>\n",
       "      <td>Dabe</td>\n",
       "      <td>heralding default dockerfile</td>\n",
       "      <td>2</td>\n",
       "      <td>1.428571</td>\n",
       "      <td>3</td>\n",
       "      <td>23</td>\n",
       "      <td>3</td>\n",
       "    </tr>\n",
       "    <tr>\n",
       "      <th>316</th>\n",
       "      <td>sensor</td>\n",
       "      <td>Dabe</td>\n",
       "      <td>unnesserity /data path permissions setting</td>\n",
       "      <td>3</td>\n",
       "      <td>1.428571</td>\n",
       "      <td>5</td>\n",
       "      <td>23</td>\n",
       "      <td>3</td>\n",
       "    </tr>\n",
       "    <tr>\n",
       "      <th>317</th>\n",
       "      <td>sensor</td>\n",
       "      <td>Dabe</td>\n",
       "      <td>added trapconductor</td>\n",
       "      <td>1</td>\n",
       "      <td>1.428571</td>\n",
       "      <td>2</td>\n",
       "      <td>23</td>\n",
       "      <td>3</td>\n",
       "    </tr>\n",
       "    <tr>\n",
       "      <th>318</th>\n",
       "      <td>sensor</td>\n",
       "      <td>Dabe</td>\n",
       "      <td>sensor</td>\n",
       "      <td>1</td>\n",
       "      <td>1.428571</td>\n",
       "      <td>1</td>\n",
       "      <td>23</td>\n",
       "      <td>3</td>\n",
       "    </tr>\n",
       "  </tbody>\n",
       "</table>\n",
       "<p>319 rows × 8 columns</p>\n",
       "</div>"
      ],
      "text/plain": [
       "    repository_name commit_author  \\\n",
       "0               mlm        Victor   \n",
       "1               mlm        Victor   \n",
       "2               mlm        Victor   \n",
       "3               mlm        Victor   \n",
       "4               mlm        Victor   \n",
       "..              ...           ...   \n",
       "314          sensor          Dabe   \n",
       "315          sensor          Dabe   \n",
       "316          sensor          Dabe   \n",
       "317          sensor          Dabe   \n",
       "318          sensor          Dabe   \n",
       "\n",
       "                                        commit_message  bugs  mean_bugs  \\\n",
       "0               объяснения предсказаний с помощью lime     4   5.102564   \n",
       "1                            Поставил lime вместо eli5     3   5.102564   \n",
       "2                Скрипт для создния пакетов обновления     4   5.102564   \n",
       "3                         Сортировка весов по убыванию     3   5.102564   \n",
       "4    не надо конвертировать массив до операции по с...     7   5.102564   \n",
       "..                                                 ...   ...        ...   \n",
       "314                                   setting hostname     1   1.428571   \n",
       "315                       heralding default dockerfile     2   1.428571   \n",
       "316         unnesserity /data path permissions setting     3   1.428571   \n",
       "317                                added trapconductor     1   1.428571   \n",
       "318                                             sensor     1   1.428571   \n",
       "\n",
       "     commit_len  day  month  \n",
       "0             5   12      6  \n",
       "1             4   12      6  \n",
       "2             5   11      6  \n",
       "3             4   11      6  \n",
       "4             9   11      6  \n",
       "..          ...  ...    ...  \n",
       "314           2   23      3  \n",
       "315           3   23      3  \n",
       "316           5   23      3  \n",
       "317           2   23      3  \n",
       "318           1   23      3  \n",
       "\n",
       "[319 rows x 8 columns]"
      ]
     },
     "execution_count": 16,
     "metadata": {},
     "output_type": "execute_result"
    }
   ],
   "source": [
    "data"
   ]
  },
  {
   "cell_type": "markdown",
   "metadata": {},
   "source": [
    "\n",
    "<blockquote>В датасете много категориальных признаков,которые нужно обработать, добавим функцию для создания нового признака</blockquote>"
   ]
  },
  {
   "cell_type": "code",
   "execution_count": 17,
   "metadata": {},
   "outputs": [],
   "source": [
    "# функция возвращает значения нового признака\n",
    "def code_factor(data, cat_feature,cat_feature2):\n",
    "    ct = pd.crosstab(data[cat_feature], data[cat_feature2])\n",
    "    u, _, _ = svd(ct.values)\n",
    "    coder = dict(zip(ct.index, u[:,0])) # если кодировать первой компонентой\n",
    "    return data[cat_feature].map(coder)\n",
    "    \n"
   ]
  },
  {
   "cell_type": "code",
   "execution_count": 18,
   "metadata": {},
   "outputs": [],
   "source": [
    "X_train, X_test, y_train, y_test=train_test_split(data.loc[:,'commit_message'],data['bugs'], test_size=0.25, random_state=42)"
   ]
  },
  {
   "cell_type": "markdown",
   "metadata": {},
   "source": [
    "## пробная модель"
   ]
  },
  {
   "cell_type": "markdown",
   "metadata": {},
   "source": [
    "<blockquote>Попробуем в лоб решить задачу, зависимость комментария от числа багов, используя следующие методы</blockquote>"
   ]
  },
  {
   "cell_type": "code",
   "execution_count": 19,
   "metadata": {},
   "outputs": [
    {
     "name": "stderr",
     "output_type": "stream",
     "text": [
      "C:\\Users\\1\\miniconda3\\lib\\site-packages\\sklearn\\model_selection\\_split.py:667: UserWarning: The least populated class in y has only 1 members, which is less than n_splits=5.\n",
      "  % (min_groups, self.n_splits)), UserWarning)\n"
     ]
    },
    {
     "data": {
      "text/plain": [
       "0.32225177304964536"
      ]
     },
     "execution_count": 19,
     "metadata": {},
     "output_type": "execute_result"
    }
   ],
   "source": [
    "from sklearn.model_selection import cross_val_score\n",
    "from sklearn.linear_model import LogisticRegression\n",
    "from sklearn.feature_extraction.text import CountVectorizer\n",
    "vect=CountVectorizer()\n",
    "vect.fit(X_train)\n",
    "vect.vocabulary_\n",
    "bag_of_words=vect.transform(X_train)\n",
    "scores=cross_val_score(LogisticRegression(),bag_of_words,y_train,cv=5)\n",
    "np.mean(scores)"
   ]
  },
  {
   "cell_type": "markdown",
   "metadata": {},
   "source": [
    "## жадное решение"
   ]
  },
  {
   "cell_type": "markdown",
   "metadata": {},
   "source": [
    "<blockquote>Решение в лоб не увенчалось успехом.Попробуем следующее:1) Будем предсказывать классы ошибок, вместо самого значения (упростим задачу),2) побробуем 2 разные модели:1) модель на основе текста (1 главный признак), 2) модель  на основе остальных признаков. \n",
    "</blockquote>"
   ]
  },
  {
   "cell_type": "code",
   "execution_count": 20,
   "metadata": {},
   "outputs": [],
   "source": [
    "def train_test_split_for_text():\n",
    "       return train_test_split(data.loc[:,'commit_message'],data['bugs_claster'], test_size=0.25, random_state=42)\n",
    "\n",
    "def train_test_split_for_data():\n",
    "       return train_test_split(temp_data[feats],temp_data['bugs_claster'], test_size=0.25, random_state=42)\n"
   ]
  },
  {
   "cell_type": "code",
   "execution_count": 21,
   "metadata": {},
   "outputs": [],
   "source": [
    "claster={'Мало ошибок':[0,1],'Cреднее':[2,3,4],'Много':[5,6,7,8,9,10,11,12]}\n",
    "n_claster={k[0]:k[1] for k in zip(claster.keys(),[0,1,2])}\n",
    "\n",
    "def to_claster(item):\n",
    "    for key in claster:\n",
    "        if item in claster[key]:\n",
    "            return n_claster[key]\n"
   ]
  },
  {
   "cell_type": "code",
   "execution_count": 22,
   "metadata": {},
   "outputs": [
    {
     "data": {
      "text/plain": [
       "<matplotlib.axes._subplots.AxesSubplot at 0x24788dfff88>"
      ]
     },
     "execution_count": 22,
     "metadata": {},
     "output_type": "execute_result"
    },
    {
     "data": {
      "image/png": "[encoded data removed]",
      "text/plain": [
       "<Figure size 432x288 with 1 Axes>"
      ]
     },
     "metadata": {
      "needs_background": "light"
     },
     "output_type": "display_data"
    }
   ],
   "source": [
    "data['bugs_claster']=data['bugs'].apply(to_claster)\n",
    "data['bugs_claster'].hist()"
   ]
  },
  {
   "cell_type": "code",
   "execution_count": 23,
   "metadata": {},
   "outputs": [
    {
     "data": {
      "text/plain": [
       "count    319.000000\n",
       "mean       0.978056\n",
       "std        0.551859\n",
       "min        0.000000\n",
       "25%        1.000000\n",
       "50%        1.000000\n",
       "75%        1.000000\n",
       "max        2.000000\n",
       "Name: bugs_claster, dtype: float64"
      ]
     },
     "execution_count": 23,
     "metadata": {},
     "output_type": "execute_result"
    }
   ],
   "source": [
    "data['bugs_claster'].describe()"
   ]
  },
  {
   "cell_type": "code",
   "execution_count": 24,
   "metadata": {},
   "outputs": [],
   "source": [
    "temp_data=data.copy()\n",
    "dummy=pd.get_dummies( temp_data[['repository_name','commit_author']])\n",
    "temp_data= pd.merge(temp_data,dummy,on=data.index,how='inner').drop(columns=['key_0'])\n",
    "temp_data.drop(columns=['repository_name','commit_author'],inplace=True)"
   ]
  },
  {
   "cell_type": "code",
   "execution_count": 25,
   "metadata": {},
   "outputs": [
    {
     "data": {
      "text/plain": [
       "['mean_bugs',\n",
       " 'commit_len',\n",
       " 'day',\n",
       " 'month',\n",
       " 'repository_name_agent',\n",
       " 'repository_name_conductor',\n",
       " 'repository_name_dockers',\n",
       " 'repository_name_mlm',\n",
       " 'repository_name_sensor',\n",
       " 'repository_name_standard',\n",
       " 'commit_author_Alice',\n",
       " 'commit_author_Bob',\n",
       " 'commit_author_Carol',\n",
       " 'commit_author_Dabe',\n",
       " 'commit_author_Eve',\n",
       " 'commit_author_Mallory',\n",
       " 'commit_author_Peggy',\n",
       " 'commit_author_Trudy',\n",
       " 'commit_author_Victor',\n",
       " 'commit_author_Wendy']"
      ]
     },
     "execution_count": 25,
     "metadata": {},
     "output_type": "execute_result"
    }
   ],
   "source": [
    "feats=[x for x in temp_data.columns if x!='bugs' and x!='commit_message' and x!='bugs_claster']\n",
    "feats\n"
   ]
  },
  {
   "cell_type": "code",
   "execution_count": 26,
   "metadata": {},
   "outputs": [],
   "source": [
    "X_train_for_text, X_test_for_text, y_train_for_text, y_test_for_text=train_test_split_for_text()"
   ]
  },
  {
   "cell_type": "code",
   "execution_count": 27,
   "metadata": {},
   "outputs": [],
   "source": [
    "vect=CountVectorizer().fit(X_train_for_text)\n",
    "\n",
    "X_train=vect.transform(X_train_for_text)\n"
   ]
  },
  {
   "cell_type": "code",
   "execution_count": 28,
   "metadata": {},
   "outputs": [
    {
     "data": {
      "text/plain": [
       "<239x569 sparse matrix of type '<class 'numpy.int64'>'\n",
       "\twith 989 stored elements in Compressed Sparse Row format>"
      ]
     },
     "execution_count": 28,
     "metadata": {},
     "output_type": "execute_result"
    }
   ],
   "source": [
    "X_train"
   ]
  },
  {
   "cell_type": "code",
   "execution_count": 29,
   "metadata": {},
   "outputs": [],
   "source": [
    "scores=cross_val_score(LogisticRegression(),X_train,y_train_for_text,cv=5)"
   ]
  },
  {
   "cell_type": "code",
   "execution_count": 30,
   "metadata": {},
   "outputs": [
    {
     "data": {
      "text/plain": [
       "0.6986702127659575"
      ]
     },
     "execution_count": 30,
     "metadata": {},
     "output_type": "execute_result"
    }
   ],
   "source": [
    "np.mean(scores)\n"
   ]
  },
  {
   "cell_type": "markdown",
   "metadata": {},
   "source": [
    "<blockquote>Стало на много лучше, хотя и не так точно!\n",
    "</blockquote>"
   ]
  },
  {
   "cell_type": "code",
   "execution_count": 31,
   "metadata": {},
   "outputs": [
    {
     "name": "stdout",
     "output_type": "stream",
     "text": [
      "Наилучшее значение перекрестной проверки: 0.70\n",
      "Наилучшие параметры:  {'C': 1}\n"
     ]
    }
   ],
   "source": [
    "from sklearn.model_selection import GridSearchCV\n",
    "from sklearn.metrics import f1_score\n",
    "param_grid = {'C': [0.001, 0.01, 0.1, 1, 10]}\n",
    "grid = GridSearchCV(LogisticRegression(), param_grid, cv=5)\n",
    "grid.fit(X_train, y_train_for_text)\n",
    "print(\"Наилучшее значение перекрестной проверки: {:.2f}\".format(grid.best_score_))\n",
    "print(\"Наилучшие параметры: \", grid.best_params_)\n"
   ]
  },
  {
   "cell_type": "code",
   "execution_count": 32,
   "metadata": {},
   "outputs": [
    {
     "name": "stdout",
     "output_type": "stream",
     "text": [
      "Правильность на тестовом наборе: 0.70\n"
     ]
    }
   ],
   "source": [
    "X_test = vect.transform(X_test_for_text)\n",
    "print(\"Правильность на тестовом наборе: {:.2f}\".format(grid.score(X_test, y_test_for_text)))"
   ]
  },
  {
   "cell_type": "code",
   "execution_count": 33,
   "metadata": {},
   "outputs": [],
   "source": [
    "def f1_score_(true,pred):\n",
    "        return f1_score(true,pred,average='weighted')"
   ]
  },
  {
   "cell_type": "code",
   "execution_count": 34,
   "metadata": {},
   "outputs": [
    {
     "data": {
      "text/plain": [
       "0.6147921108742004"
      ]
     },
     "execution_count": 34,
     "metadata": {},
     "output_type": "execute_result"
    }
   ],
   "source": [
    "f1_score_(y_test_for_text,grid.predict(X_test))\n"
   ]
  },
  {
   "cell_type": "code",
   "execution_count": 35,
   "metadata": {},
   "outputs": [
    {
     "data": {
      "text/plain": [
       "array([1, 0, 1, 1, 2, 1, 1, 1, 1, 1, 1, 1, 1, 1, 1, 1, 1, 2, 0, 1, 1, 2,\n",
       "       1, 2, 0, 1, 1, 1, 2, 1, 1, 2, 1, 0, 1, 1, 1, 1, 1, 1, 1, 1, 1, 1,\n",
       "       1, 1, 2, 0, 1, 1, 1, 1, 1, 1, 1, 1, 1, 2, 1, 0, 1, 1, 0, 1, 0, 1,\n",
       "       1, 1, 0, 1, 1, 1, 1, 0, 2, 1, 2, 2, 1, 0], dtype=int64)"
      ]
     },
     "execution_count": 35,
     "metadata": {},
     "output_type": "execute_result"
    }
   ],
   "source": [
    "y_test_for_text.values"
   ]
  },
  {
   "cell_type": "code",
   "execution_count": 36,
   "metadata": {},
   "outputs": [
    {
     "data": {
      "text/plain": [
       "array([1, 0, 1, 1, 1, 0, 1, 1, 1, 1, 1, 1, 1, 1, 1, 1, 1, 1, 1, 1, 1, 1,\n",
       "       1, 1, 1, 1, 1, 1, 1, 1, 1, 1, 1, 1, 2, 1, 1, 1, 1, 1, 1, 1, 1, 1,\n",
       "       1, 1, 1, 1, 1, 1, 1, 1, 1, 1, 1, 1, 1, 1, 1, 1, 1, 1, 1, 1, 1, 1,\n",
       "       1, 1, 1, 0, 1, 1, 1, 1, 1, 1, 1, 1, 1, 1], dtype=int64)"
      ]
     },
     "execution_count": 36,
     "metadata": {},
     "output_type": "execute_result"
    }
   ],
   "source": [
    "grid.predict(X_test)"
   ]
  },
  {
   "cell_type": "code",
   "execution_count": 37,
   "metadata": {},
   "outputs": [
    {
     "name": "stdout",
     "output_type": "stream",
     "text": [
      "Наилучшее значение перекр проверки: 0.70\n"
     ]
    }
   ],
   "source": [
    "from sklearn.feature_extraction.text import TfidfVectorizer\n",
    "from sklearn.pipeline import make_pipeline\n",
    "pipe = make_pipeline(TfidfVectorizer(min_df=5, norm=None),\n",
    " LogisticRegression())\n",
    "param_grid = {'logisticregression__C': [0.001, 0.01, 0.1, 1, 10]}\n",
    "\n",
    "grid = GridSearchCV(pipe, param_grid, cv=5)\n",
    "grid.fit(X_train_for_text, y_train_for_text)\n",
    "print(\"Наилучшее значение перекр проверки: {:.2f}\".format(grid.best_score_))"
   ]
  },
  {
   "cell_type": "code",
   "execution_count": 38,
   "metadata": {},
   "outputs": [
    {
     "name": "stdout",
     "output_type": "stream",
     "text": [
      "Признаки с наименьшими значениями tfidf:\n",
      "['added' 'fix' 'add' 'для' 'на' 'не' 'config' 'trap' 'in' 'docker'\n",
      " 'добавил' 'compose' 'suricata' 'into' 'py' 'branch' 'sh' 'install'\n",
      " 'images' 'fixes']\n",
      "Признаки с наибольшими значениями tfidf: \n",
      "['in' 'docker' 'добавил' 'compose' 'suricata' 'into' 'py' 'branch' 'sh'\n",
      " 'install' 'images' 'fixes' 'filebeat' 'to' 'update' 'service' 'log'\n",
      " 'file' 'dns' 'json']\n"
     ]
    }
   ],
   "source": [
    "vectorizer = grid.best_estimator_.named_steps[\"tfidfvectorizer\"]\n",
    "# преобразуем обучающий набор данных\n",
    "X_train = vectorizer.transform(X_train_for_text)\n",
    "# находим максимальное значение каждого признака по набору данных\n",
    "360\n",
    "max_value = X_train.max(axis=0).toarray().ravel()\n",
    "sorted_by_tfidf = max_value.argsort()\n",
    "# получаем имена признаков\n",
    "feature_names = np.array(vectorizer.get_feature_names())\n",
    "\n",
    "print(\"Признаки с наименьшими значениями tfidf:\\n{}\".format(\n",
    " feature_names[sorted_by_tfidf[:20]]))\n",
    "print(\"Признаки с наибольшими значениями tfidf: \\n{}\".format(\n",
    " feature_names[sorted_by_tfidf[-20:]]))"
   ]
  },
  {
   "cell_type": "code",
   "execution_count": 39,
   "metadata": {},
   "outputs": [
    {
     "data": {
      "text/plain": [
       "{'logisticregression__C': 0.1}"
      ]
     },
     "execution_count": 39,
     "metadata": {},
     "output_type": "execute_result"
    }
   ],
   "source": [
    "grid.best_params_"
   ]
  },
  {
   "cell_type": "code",
   "execution_count": 40,
   "metadata": {},
   "outputs": [
    {
     "name": "stderr",
     "output_type": "stream",
     "text": [
      "C:\\Users\\1\\miniconda3\\lib\\site-packages\\sklearn\\linear_model\\_logistic.py:940: ConvergenceWarning: lbfgs failed to converge (status=1):\n",
      "STOP: TOTAL NO. of ITERATIONS REACHED LIMIT.\n",
      "\n",
      "Increase the number of iterations (max_iter) or scale the data as shown in:\n",
      "    https://scikit-learn.org/stable/modules/preprocessing.html\n",
      "Please also refer to the documentation for alternative solver options:\n",
      "    https://scikit-learn.org/stable/modules/linear_model.html#logistic-regression\n",
      "  extra_warning_msg=_LOGISTIC_SOLVER_CONVERGENCE_MSG)\n",
      "C:\\Users\\1\\miniconda3\\lib\\site-packages\\sklearn\\linear_model\\_logistic.py:940: ConvergenceWarning: lbfgs failed to converge (status=1):\n",
      "STOP: TOTAL NO. of ITERATIONS REACHED LIMIT.\n",
      "\n",
      "Increase the number of iterations (max_iter) or scale the data as shown in:\n",
      "    https://scikit-learn.org/stable/modules/preprocessing.html\n",
      "Please also refer to the documentation for alternative solver options:\n",
      "    https://scikit-learn.org/stable/modules/linear_model.html#logistic-regression\n",
      "  extra_warning_msg=_LOGISTIC_SOLVER_CONVERGENCE_MSG)\n",
      "C:\\Users\\1\\miniconda3\\lib\\site-packages\\sklearn\\linear_model\\_logistic.py:940: ConvergenceWarning: lbfgs failed to converge (status=1):\n",
      "STOP: TOTAL NO. of ITERATIONS REACHED LIMIT.\n",
      "\n",
      "Increase the number of iterations (max_iter) or scale the data as shown in:\n",
      "    https://scikit-learn.org/stable/modules/preprocessing.html\n",
      "Please also refer to the documentation for alternative solver options:\n",
      "    https://scikit-learn.org/stable/modules/linear_model.html#logistic-regression\n",
      "  extra_warning_msg=_LOGISTIC_SOLVER_CONVERGENCE_MSG)\n",
      "C:\\Users\\1\\miniconda3\\lib\\site-packages\\sklearn\\linear_model\\_logistic.py:940: ConvergenceWarning: lbfgs failed to converge (status=1):\n",
      "STOP: TOTAL NO. of ITERATIONS REACHED LIMIT.\n",
      "\n",
      "Increase the number of iterations (max_iter) or scale the data as shown in:\n",
      "    https://scikit-learn.org/stable/modules/preprocessing.html\n",
      "Please also refer to the documentation for alternative solver options:\n",
      "    https://scikit-learn.org/stable/modules/linear_model.html#logistic-regression\n",
      "  extra_warning_msg=_LOGISTIC_SOLVER_CONVERGENCE_MSG)\n",
      "C:\\Users\\1\\miniconda3\\lib\\site-packages\\sklearn\\linear_model\\_logistic.py:940: ConvergenceWarning: lbfgs failed to converge (status=1):\n",
      "STOP: TOTAL NO. of ITERATIONS REACHED LIMIT.\n",
      "\n",
      "Increase the number of iterations (max_iter) or scale the data as shown in:\n",
      "    https://scikit-learn.org/stable/modules/preprocessing.html\n",
      "Please also refer to the documentation for alternative solver options:\n",
      "    https://scikit-learn.org/stable/modules/linear_model.html#logistic-regression\n",
      "  extra_warning_msg=_LOGISTIC_SOLVER_CONVERGENCE_MSG)\n",
      "C:\\Users\\1\\miniconda3\\lib\\site-packages\\sklearn\\linear_model\\_logistic.py:940: ConvergenceWarning: lbfgs failed to converge (status=1):\n",
      "STOP: TOTAL NO. of ITERATIONS REACHED LIMIT.\n",
      "\n",
      "Increase the number of iterations (max_iter) or scale the data as shown in:\n",
      "    https://scikit-learn.org/stable/modules/preprocessing.html\n",
      "Please also refer to the documentation for alternative solver options:\n",
      "    https://scikit-learn.org/stable/modules/linear_model.html#logistic-regression\n",
      "  extra_warning_msg=_LOGISTIC_SOLVER_CONVERGENCE_MSG)\n",
      "C:\\Users\\1\\miniconda3\\lib\\site-packages\\sklearn\\linear_model\\_logistic.py:940: ConvergenceWarning: lbfgs failed to converge (status=1):\n",
      "STOP: TOTAL NO. of ITERATIONS REACHED LIMIT.\n",
      "\n",
      "Increase the number of iterations (max_iter) or scale the data as shown in:\n",
      "    https://scikit-learn.org/stable/modules/preprocessing.html\n",
      "Please also refer to the documentation for alternative solver options:\n",
      "    https://scikit-learn.org/stable/modules/linear_model.html#logistic-regression\n",
      "  extra_warning_msg=_LOGISTIC_SOLVER_CONVERGENCE_MSG)\n",
      "C:\\Users\\1\\miniconda3\\lib\\site-packages\\sklearn\\linear_model\\_logistic.py:940: ConvergenceWarning: lbfgs failed to converge (status=1):\n",
      "STOP: TOTAL NO. of ITERATIONS REACHED LIMIT.\n",
      "\n",
      "Increase the number of iterations (max_iter) or scale the data as shown in:\n",
      "    https://scikit-learn.org/stable/modules/preprocessing.html\n",
      "Please also refer to the documentation for alternative solver options:\n",
      "    https://scikit-learn.org/stable/modules/linear_model.html#logistic-regression\n",
      "  extra_warning_msg=_LOGISTIC_SOLVER_CONVERGENCE_MSG)\n",
      "C:\\Users\\1\\miniconda3\\lib\\site-packages\\sklearn\\linear_model\\_logistic.py:940: ConvergenceWarning: lbfgs failed to converge (status=1):\n",
      "STOP: TOTAL NO. of ITERATIONS REACHED LIMIT.\n",
      "\n",
      "Increase the number of iterations (max_iter) or scale the data as shown in:\n",
      "    https://scikit-learn.org/stable/modules/preprocessing.html\n",
      "Please also refer to the documentation for alternative solver options:\n",
      "    https://scikit-learn.org/stable/modules/linear_model.html#logistic-regression\n",
      "  extra_warning_msg=_LOGISTIC_SOLVER_CONVERGENCE_MSG)\n",
      "C:\\Users\\1\\miniconda3\\lib\\site-packages\\sklearn\\linear_model\\_logistic.py:940: ConvergenceWarning: lbfgs failed to converge (status=1):\n",
      "STOP: TOTAL NO. of ITERATIONS REACHED LIMIT.\n",
      "\n",
      "Increase the number of iterations (max_iter) or scale the data as shown in:\n",
      "    https://scikit-learn.org/stable/modules/preprocessing.html\n",
      "Please also refer to the documentation for alternative solver options:\n",
      "    https://scikit-learn.org/stable/modules/linear_model.html#logistic-regression\n",
      "  extra_warning_msg=_LOGISTIC_SOLVER_CONVERGENCE_MSG)\n",
      "C:\\Users\\1\\miniconda3\\lib\\site-packages\\sklearn\\linear_model\\_logistic.py:940: ConvergenceWarning: lbfgs failed to converge (status=1):\n",
      "STOP: TOTAL NO. of ITERATIONS REACHED LIMIT.\n",
      "\n",
      "Increase the number of iterations (max_iter) or scale the data as shown in:\n",
      "    https://scikit-learn.org/stable/modules/preprocessing.html\n",
      "Please also refer to the documentation for alternative solver options:\n",
      "    https://scikit-learn.org/stable/modules/linear_model.html#logistic-regression\n",
      "  extra_warning_msg=_LOGISTIC_SOLVER_CONVERGENCE_MSG)\n"
     ]
    },
    {
     "name": "stdout",
     "output_type": "stream",
     "text": [
      "Наилучшее значение перекр проверки: 0.70\n",
      "Наилучшие параметры:\n",
      "{'logisticregression__C': 1, 'tfidfvectorizer__ngram_range': (1, 2)}\n"
     ]
    },
    {
     "name": "stderr",
     "output_type": "stream",
     "text": [
      "C:\\Users\\1\\miniconda3\\lib\\site-packages\\sklearn\\linear_model\\_logistic.py:940: ConvergenceWarning: lbfgs failed to converge (status=1):\n",
      "STOP: TOTAL NO. of ITERATIONS REACHED LIMIT.\n",
      "\n",
      "Increase the number of iterations (max_iter) or scale the data as shown in:\n",
      "    https://scikit-learn.org/stable/modules/preprocessing.html\n",
      "Please also refer to the documentation for alternative solver options:\n",
      "    https://scikit-learn.org/stable/modules/linear_model.html#logistic-regression\n",
      "  extra_warning_msg=_LOGISTIC_SOLVER_CONVERGENCE_MSG)\n",
      "C:\\Users\\1\\miniconda3\\lib\\site-packages\\sklearn\\linear_model\\_logistic.py:940: ConvergenceWarning: lbfgs failed to converge (status=1):\n",
      "STOP: TOTAL NO. of ITERATIONS REACHED LIMIT.\n",
      "\n",
      "Increase the number of iterations (max_iter) or scale the data as shown in:\n",
      "    https://scikit-learn.org/stable/modules/preprocessing.html\n",
      "Please also refer to the documentation for alternative solver options:\n",
      "    https://scikit-learn.org/stable/modules/linear_model.html#logistic-regression\n",
      "  extra_warning_msg=_LOGISTIC_SOLVER_CONVERGENCE_MSG)\n",
      "C:\\Users\\1\\miniconda3\\lib\\site-packages\\sklearn\\linear_model\\_logistic.py:940: ConvergenceWarning: lbfgs failed to converge (status=1):\n",
      "STOP: TOTAL NO. of ITERATIONS REACHED LIMIT.\n",
      "\n",
      "Increase the number of iterations (max_iter) or scale the data as shown in:\n",
      "    https://scikit-learn.org/stable/modules/preprocessing.html\n",
      "Please also refer to the documentation for alternative solver options:\n",
      "    https://scikit-learn.org/stable/modules/linear_model.html#logistic-regression\n",
      "  extra_warning_msg=_LOGISTIC_SOLVER_CONVERGENCE_MSG)\n",
      "C:\\Users\\1\\miniconda3\\lib\\site-packages\\sklearn\\linear_model\\_logistic.py:940: ConvergenceWarning: lbfgs failed to converge (status=1):\n",
      "STOP: TOTAL NO. of ITERATIONS REACHED LIMIT.\n",
      "\n",
      "Increase the number of iterations (max_iter) or scale the data as shown in:\n",
      "    https://scikit-learn.org/stable/modules/preprocessing.html\n",
      "Please also refer to the documentation for alternative solver options:\n",
      "    https://scikit-learn.org/stable/modules/linear_model.html#logistic-regression\n",
      "  extra_warning_msg=_LOGISTIC_SOLVER_CONVERGENCE_MSG)\n"
     ]
    }
   ],
   "source": [
    "pipe = make_pipeline(TfidfVectorizer(min_df=3), LogisticRegression())\n",
    "# выполнение решетчатого поиска займет много времени из-за\n",
    "# относительно большой сетки параметров и включения триграмм\n",
    "param_grid = {\"logisticregression__C\": [0.001, 0.01, 0.1, 1, 10, 100],\n",
    " \"tfidfvectorizer__ngram_range\": [(1, 1), (1, 2), (1, 3)]}\n",
    "grid = GridSearchCV(pipe, param_grid, cv=5)\n",
    "grid.fit(X_train_for_text, y_train_for_text)\n",
    "print(\"Наилучшее значение перекр проверки: {:.2f}\".format(grid.best_score_))\n",
    "print(\"Наилучшие параметры:\\n{}\".format(grid.best_params_))\n"
   ]
  },
  {
   "cell_type": "code",
   "execution_count": 41,
   "metadata": {},
   "outputs": [
    {
     "name": "stdout",
     "output_type": "stream",
     "text": [
      "Признаки с наименьшими значениями tfidf:\n",
      "['to merge' 'merge into' 'changes to' 'branch changes' 'into master'\n",
      " 'make' 'fixes in' 'work' 'it' 'to make' 'make it' 'small fixes' 'small'\n",
      " 'log path' 'path' 'branch' 'dns trap' 'dns' 'master' 'merge branch']\n",
      "Признаки с наибольшими значениями tfidf: \n",
      "['changed' 'changes' 'check' 'commit' 'default' 'delete' 'error' 'trap'\n",
      " 'file' 'fix' 'fixes' 'in' 'json' 'файл' 'memory' 'py' 'service'\n",
      " 'suricata' 'filebeat' 'через']\n"
     ]
    }
   ],
   "source": [
    "vectorizer = grid.best_estimator_.named_steps[\"tfidfvectorizer\"]\n",
    "# преобразуем обучающий набор данных\n",
    "X_train = vectorizer.transform(X_train_for_text)\n",
    "# находим максимальное значение каждого признака по набору данных\n",
    "360\n",
    "max_value = X_train.max(axis=0).toarray().ravel()\n",
    "sorted_by_tfidf = max_value.argsort()\n",
    "# получаем имена признаков\n",
    "feature_names = np.array(vectorizer.get_feature_names())\n",
    "\n",
    "print(\"Признаки с наименьшими значениями tfidf:\\n{}\".format(\n",
    " feature_names[sorted_by_tfidf[:20]]))\n",
    "print(\"Признаки с наибольшими значениями tfidf: \\n{}\".format(\n",
    " feature_names[sorted_by_tfidf[-20:]]))"
   ]
  },
  {
   "cell_type": "markdown",
   "metadata": {},
   "source": [
    "<blockquote>Признаки которымм руководствуется модель при построении\n",
    "</blockquote>"
   ]
  },
  {
   "cell_type": "code",
   "execution_count": 42,
   "metadata": {},
   "outputs": [
    {
     "data": {
      "text/plain": [
       "0.7"
      ]
     },
     "execution_count": 42,
     "metadata": {},
     "output_type": "execute_result"
    }
   ],
   "source": [
    "model=LogisticRegression(C=1).fit(X_train,y_train_for_text)\n",
    "model.score(vectorizer.transform(X_test_for_text),y_test_for_text)"
   ]
  },
  {
   "cell_type": "code",
   "execution_count": 43,
   "metadata": {},
   "outputs": [
    {
     "data": {
      "text/plain": [
       "0.8029411764705883"
      ]
     },
     "execution_count": 43,
     "metadata": {},
     "output_type": "execute_result"
    }
   ],
   "source": [
    "f1_score_(model.predict(vectorizer.transform(X_test_for_text)),y_test_for_text)"
   ]
  },
  {
   "cell_type": "code",
   "execution_count": 44,
   "metadata": {},
   "outputs": [],
   "source": [
    "new_data_for_train=model.predict(X_train)\n",
    "new_data_for_test=model.predict(vectorizer.transform(X_test_for_text))"
   ]
  },
  {
   "cell_type": "code",
   "execution_count": 45,
   "metadata": {},
   "outputs": [
    {
     "data": {
      "text/plain": [
       "array([1, 1, 1, 1, 1, 1, 1, 1, 1, 1, 1, 1, 1, 1, 1, 1, 1, 1, 1, 1, 1, 1,\n",
       "       1, 1, 1, 1, 1, 1, 1, 1, 1, 1, 1, 1, 1, 1, 1, 1, 1, 1, 1, 1, 1, 1,\n",
       "       1, 1, 1, 1, 1, 1, 1, 1, 2, 1, 1, 1, 1, 1, 1, 1, 1, 1, 1, 1, 1, 1,\n",
       "       1, 1, 1, 0, 1, 1, 1, 1, 1, 1, 1, 1, 1, 1], dtype=int64)"
      ]
     },
     "execution_count": 45,
     "metadata": {},
     "output_type": "execute_result"
    }
   ],
   "source": [
    "model.predict(vectorizer.transform(X_test_for_text))"
   ]
  },
  {
   "cell_type": "code",
   "execution_count": 46,
   "metadata": {},
   "outputs": [
    {
     "data": {
      "text/plain": [
       "array([1, 0, 1, 1, 2, 1, 1, 1, 1, 1, 1, 1, 1, 1, 1, 1, 1, 2, 0, 1, 1, 2,\n",
       "       1, 2, 0, 1, 1, 1, 2, 1, 1, 2, 1, 0, 1, 1, 1, 1, 1, 1, 1, 1, 1, 1,\n",
       "       1, 1, 2, 0, 1, 1, 1, 1, 1, 1, 1, 1, 1, 2, 1, 0, 1, 1, 0, 1, 0, 1,\n",
       "       1, 1, 0, 1, 1, 1, 1, 0, 2, 1, 2, 2, 1, 0], dtype=int64)"
      ]
     },
     "execution_count": 46,
     "metadata": {},
     "output_type": "execute_result"
    }
   ],
   "source": [
    "y_test_for_text.values"
   ]
  },
  {
   "cell_type": "code",
   "execution_count": 47,
   "metadata": {},
   "outputs": [],
   "source": [
    "X_train_for_data, X_test_for_data, y_train_for_data, y_test_for_data=train_test_split_for_data()\n"
   ]
  },
  {
   "cell_type": "code",
   "execution_count": 48,
   "metadata": {},
   "outputs": [],
   "source": [
    "from sklearn.ensemble import RandomForestClassifier\n",
    "from sklearn.model_selection import GridSearchCV\n",
    "\n",
    "def RFC_(X_train_for_data, X_test_for_data, y_train_for_data, y_test_for_data):\n",
    "    parameters = [{'n_estimators': [10,50,100,150],\n",
    "               'max_features': np.arange(5, 9),\n",
    "               'max_depth': np.arange(5, 10)}]\n",
    "\n",
    "    clf = GridSearchCV(estimator=RandomForestClassifier(random_state=100), \n",
    "                   param_grid=parameters,\n",
    "                   scoring='accuracy',\n",
    "                   cv=5)\n",
    "    clf.fit(X_train_for_data, y_train_for_data)\n",
    "    print(clf,'\\n\\n')\n",
    "    print(clf.best_params_,'\\n\\n')\n",
    "    means = clf.cv_results_['mean_test_score']\n",
    "    stds = clf.cv_results_['std_test_score']\n",
    "\n",
    "    for mean, std, params in zip(means, stds, clf.cv_results_['params']):\n",
    "            print(\"%0.3f (+/-%0.03f) for %r\" % (mean, std * 2, params))\n",
    "    \n",
    "    y_pred = clf.predict(X_test_for_data)\n",
    "    print(f\"\\n\\nf1_score {f1_score_(y_test_for_data, y_pred)}\")\n",
    "    "
   ]
  },
  {
   "cell_type": "markdown",
   "metadata": {},
   "source": [
    "## Использование не текстовых признаков с кросс-валидацией"
   ]
  },
  {
   "cell_type": "code",
   "execution_count": 49,
   "metadata": {},
   "outputs": [
    {
     "name": "stdout",
     "output_type": "stream",
     "text": [
      "GridSearchCV(cv=5, error_score=nan,\n",
      "             estimator=RandomForestClassifier(bootstrap=True, ccp_alpha=0.0,\n",
      "                                              class_weight=None,\n",
      "                                              criterion='gini', max_depth=None,\n",
      "                                              max_features='auto',\n",
      "                                              max_leaf_nodes=None,\n",
      "                                              max_samples=None,\n",
      "                                              min_impurity_decrease=0.0,\n",
      "                                              min_impurity_split=None,\n",
      "                                              min_samples_leaf=1,\n",
      "                                              min_samples_split=2,\n",
      "                                              min_weight_fraction_leaf=0.0,\n",
      "                                              n_estimators=100, n_jobs=None,\n",
      "                                              oob_score=False, random_state=100,\n",
      "                                              verbose=0, warm_start=False),\n",
      "             iid='deprecated', n_jobs=None,\n",
      "             param_grid=[{'max_depth': array([5, 6, 7, 8, 9]),\n",
      "                          'max_features': array([5, 6, 7, 8]),\n",
      "                          'n_estimators': [10, 50, 100, 150]}],\n",
      "             pre_dispatch='2*n_jobs', refit=True, return_train_score=False,\n",
      "             scoring='accuracy', verbose=0) \n",
      "\n",
      "\n",
      "{'max_depth': 8, 'max_features': 6, 'n_estimators': 10} \n",
      "\n",
      "\n",
      "0.849 (+/-0.077) for {'max_depth': 5, 'max_features': 5, 'n_estimators': 10}\n",
      "0.870 (+/-0.049) for {'max_depth': 5, 'max_features': 5, 'n_estimators': 50}\n",
      "0.883 (+/-0.036) for {'max_depth': 5, 'max_features': 5, 'n_estimators': 100}\n",
      "0.874 (+/-0.039) for {'max_depth': 5, 'max_features': 5, 'n_estimators': 150}\n",
      "0.866 (+/-0.119) for {'max_depth': 5, 'max_features': 6, 'n_estimators': 10}\n",
      "0.887 (+/-0.058) for {'max_depth': 5, 'max_features': 6, 'n_estimators': 50}\n",
      "0.887 (+/-0.044) for {'max_depth': 5, 'max_features': 6, 'n_estimators': 100}\n",
      "0.895 (+/-0.048) for {'max_depth': 5, 'max_features': 6, 'n_estimators': 150}\n",
      "0.866 (+/-0.102) for {'max_depth': 5, 'max_features': 7, 'n_estimators': 10}\n",
      "0.904 (+/-0.044) for {'max_depth': 5, 'max_features': 7, 'n_estimators': 50}\n",
      "0.899 (+/-0.033) for {'max_depth': 5, 'max_features': 7, 'n_estimators': 100}\n",
      "0.904 (+/-0.035) for {'max_depth': 5, 'max_features': 7, 'n_estimators': 150}\n",
      "0.908 (+/-0.044) for {'max_depth': 5, 'max_features': 8, 'n_estimators': 10}\n",
      "0.908 (+/-0.044) for {'max_depth': 5, 'max_features': 8, 'n_estimators': 50}\n",
      "0.908 (+/-0.044) for {'max_depth': 5, 'max_features': 8, 'n_estimators': 100}\n",
      "0.908 (+/-0.044) for {'max_depth': 5, 'max_features': 8, 'n_estimators': 150}\n",
      "0.879 (+/-0.071) for {'max_depth': 6, 'max_features': 5, 'n_estimators': 10}\n",
      "0.887 (+/-0.044) for {'max_depth': 6, 'max_features': 5, 'n_estimators': 50}\n",
      "0.895 (+/-0.048) for {'max_depth': 6, 'max_features': 5, 'n_estimators': 100}\n",
      "0.899 (+/-0.051) for {'max_depth': 6, 'max_features': 5, 'n_estimators': 150}\n",
      "0.883 (+/-0.059) for {'max_depth': 6, 'max_features': 6, 'n_estimators': 10}\n",
      "0.908 (+/-0.035) for {'max_depth': 6, 'max_features': 6, 'n_estimators': 50}\n",
      "0.899 (+/-0.033) for {'max_depth': 6, 'max_features': 6, 'n_estimators': 100}\n",
      "0.899 (+/-0.051) for {'max_depth': 6, 'max_features': 6, 'n_estimators': 150}\n",
      "0.895 (+/-0.038) for {'max_depth': 6, 'max_features': 7, 'n_estimators': 10}\n",
      "0.904 (+/-0.044) for {'max_depth': 6, 'max_features': 7, 'n_estimators': 50}\n",
      "0.899 (+/-0.033) for {'max_depth': 6, 'max_features': 7, 'n_estimators': 100}\n",
      "0.899 (+/-0.033) for {'max_depth': 6, 'max_features': 7, 'n_estimators': 150}\n",
      "0.908 (+/-0.020) for {'max_depth': 6, 'max_features': 8, 'n_estimators': 10}\n",
      "0.904 (+/-0.044) for {'max_depth': 6, 'max_features': 8, 'n_estimators': 50}\n",
      "0.899 (+/-0.042) for {'max_depth': 6, 'max_features': 8, 'n_estimators': 100}\n",
      "0.904 (+/-0.044) for {'max_depth': 6, 'max_features': 8, 'n_estimators': 150}\n",
      "0.904 (+/-0.033) for {'max_depth': 7, 'max_features': 5, 'n_estimators': 10}\n",
      "0.908 (+/-0.022) for {'max_depth': 7, 'max_features': 5, 'n_estimators': 50}\n",
      "0.904 (+/-0.059) for {'max_depth': 7, 'max_features': 5, 'n_estimators': 100}\n",
      "0.904 (+/-0.059) for {'max_depth': 7, 'max_features': 5, 'n_estimators': 150}\n",
      "0.908 (+/-0.043) for {'max_depth': 7, 'max_features': 6, 'n_estimators': 10}\n",
      "0.908 (+/-0.035) for {'max_depth': 7, 'max_features': 6, 'n_estimators': 50}\n",
      "0.904 (+/-0.035) for {'max_depth': 7, 'max_features': 6, 'n_estimators': 100}\n",
      "0.904 (+/-0.035) for {'max_depth': 7, 'max_features': 6, 'n_estimators': 150}\n",
      "0.891 (+/-0.069) for {'max_depth': 7, 'max_features': 7, 'n_estimators': 10}\n",
      "0.904 (+/-0.044) for {'max_depth': 7, 'max_features': 7, 'n_estimators': 50}\n",
      "0.908 (+/-0.044) for {'max_depth': 7, 'max_features': 7, 'n_estimators': 100}\n",
      "0.904 (+/-0.035) for {'max_depth': 7, 'max_features': 7, 'n_estimators': 150}\n",
      "0.899 (+/-0.033) for {'max_depth': 7, 'max_features': 8, 'n_estimators': 10}\n",
      "0.912 (+/-0.032) for {'max_depth': 7, 'max_features': 8, 'n_estimators': 50}\n",
      "0.912 (+/-0.032) for {'max_depth': 7, 'max_features': 8, 'n_estimators': 100}\n",
      "0.912 (+/-0.031) for {'max_depth': 7, 'max_features': 8, 'n_estimators': 150}\n",
      "0.887 (+/-0.058) for {'max_depth': 8, 'max_features': 5, 'n_estimators': 10}\n",
      "0.912 (+/-0.016) for {'max_depth': 8, 'max_features': 5, 'n_estimators': 50}\n",
      "0.912 (+/-0.032) for {'max_depth': 8, 'max_features': 5, 'n_estimators': 100}\n",
      "0.908 (+/-0.044) for {'max_depth': 8, 'max_features': 5, 'n_estimators': 150}\n",
      "0.916 (+/-0.026) for {'max_depth': 8, 'max_features': 6, 'n_estimators': 10}\n",
      "0.904 (+/-0.035) for {'max_depth': 8, 'max_features': 6, 'n_estimators': 50}\n",
      "0.908 (+/-0.044) for {'max_depth': 8, 'max_features': 6, 'n_estimators': 100}\n",
      "0.904 (+/-0.035) for {'max_depth': 8, 'max_features': 6, 'n_estimators': 150}\n",
      "0.891 (+/-0.049) for {'max_depth': 8, 'max_features': 7, 'n_estimators': 10}\n",
      "0.904 (+/-0.044) for {'max_depth': 8, 'max_features': 7, 'n_estimators': 50}\n",
      "0.908 (+/-0.044) for {'max_depth': 8, 'max_features': 7, 'n_estimators': 100}\n",
      "0.916 (+/-0.026) for {'max_depth': 8, 'max_features': 7, 'n_estimators': 150}\n",
      "0.908 (+/-0.020) for {'max_depth': 8, 'max_features': 8, 'n_estimators': 10}\n",
      "0.912 (+/-0.049) for {'max_depth': 8, 'max_features': 8, 'n_estimators': 50}\n",
      "0.908 (+/-0.044) for {'max_depth': 8, 'max_features': 8, 'n_estimators': 100}\n",
      "0.912 (+/-0.032) for {'max_depth': 8, 'max_features': 8, 'n_estimators': 150}\n",
      "0.879 (+/-0.055) for {'max_depth': 9, 'max_features': 5, 'n_estimators': 10}\n",
      "0.899 (+/-0.033) for {'max_depth': 9, 'max_features': 5, 'n_estimators': 50}\n",
      "0.908 (+/-0.044) for {'max_depth': 9, 'max_features': 5, 'n_estimators': 100}\n",
      "0.908 (+/-0.044) for {'max_depth': 9, 'max_features': 5, 'n_estimators': 150}\n",
      "0.900 (+/-0.041) for {'max_depth': 9, 'max_features': 6, 'n_estimators': 10}\n",
      "0.899 (+/-0.033) for {'max_depth': 9, 'max_features': 6, 'n_estimators': 50}\n",
      "0.904 (+/-0.035) for {'max_depth': 9, 'max_features': 6, 'n_estimators': 100}\n",
      "0.904 (+/-0.035) for {'max_depth': 9, 'max_features': 6, 'n_estimators': 150}\n",
      "0.883 (+/-0.051) for {'max_depth': 9, 'max_features': 7, 'n_estimators': 10}\n",
      "0.904 (+/-0.044) for {'max_depth': 9, 'max_features': 7, 'n_estimators': 50}\n",
      "0.908 (+/-0.044) for {'max_depth': 9, 'max_features': 7, 'n_estimators': 100}\n",
      "0.904 (+/-0.035) for {'max_depth': 9, 'max_features': 7, 'n_estimators': 150}\n",
      "0.900 (+/-0.017) for {'max_depth': 9, 'max_features': 8, 'n_estimators': 10}\n",
      "0.908 (+/-0.058) for {'max_depth': 9, 'max_features': 8, 'n_estimators': 50}\n",
      "0.908 (+/-0.043) for {'max_depth': 9, 'max_features': 8, 'n_estimators': 100}\n",
      "0.912 (+/-0.032) for {'max_depth': 9, 'max_features': 8, 'n_estimators': 150}\n",
      "\n",
      "\n",
      "f1_score 0.8465546218487393\n"
     ]
    }
   ],
   "source": [
    "RFC_(X_train_for_data, X_test_for_data, y_train_for_data, y_test_for_data)"
   ]
  },
  {
   "cell_type": "code",
   "execution_count": 50,
   "metadata": {},
   "outputs": [],
   "source": [
    "model=RandomForestClassifier(max_depth=5,max_features=6, n_estimators=10).fit(X_train_for_data,y_train_for_data)"
   ]
  },
  {
   "cell_type": "code",
   "execution_count": 51,
   "metadata": {},
   "outputs": [],
   "source": [
    "f_i=pd.DataFrame(model.feature_importances_,index=X_train_for_data.columns,columns=['value'])"
   ]
  },
  {
   "cell_type": "code",
   "execution_count": 52,
   "metadata": {},
   "outputs": [
    {
     "data": {
      "text/plain": [
       "<matplotlib.axes._subplots.AxesSubplot at 0x24788eefec8>"
      ]
     },
     "execution_count": 52,
     "metadata": {},
     "output_type": "execute_result"
    },
    {
     "data": {
      "image/png": "[encoded data removed]",
      "text/plain": [
       "<Figure size 432x288 with 1 Axes>"
      ]
     },
     "metadata": {
      "needs_background": "light"
     },
     "output_type": "display_data"
    }
   ],
   "source": [
    "f_i.plot(kind='bar')"
   ]
  },
  {
   "cell_type": "markdown",
   "metadata": {},
   "source": [
    "<blockquote>Наиболее значимые признаки, \n",
    "</blockquote>"
   ]
  },
  {
   "cell_type": "code",
   "execution_count": 53,
   "metadata": {},
   "outputs": [
    {
     "data": {
      "text/plain": [
       "0.8627820512820511"
      ]
     },
     "execution_count": 53,
     "metadata": {},
     "output_type": "execute_result"
    }
   ],
   "source": [
    "f1_score_(y_test_for_data,model.predict(X_test_for_data))"
   ]
  },
  {
   "cell_type": "markdown",
   "metadata": {},
   "source": [
    "<blockquote>Добавим, предсказанные текстовой моделью данные, как признак.\n",
    "</blockquote>"
   ]
  },
  {
   "cell_type": "code",
   "execution_count": 54,
   "metadata": {},
   "outputs": [],
   "source": [
    "def new_feature(frame,pred):\n",
    "    temp_table=pd.DataFrame(data.loc[frame.index,'commit_author'])\n",
    "    temp_table['new_feat']=pred\n",
    "    return temp_table['new_feat']\n",
    "#\n",
    "    "
   ]
  },
  {
   "cell_type": "code",
   "execution_count": 55,
   "metadata": {},
   "outputs": [],
   "source": [
    "X_train_for_data['new_feat']=new_feature(X_train_for_data,new_data_for_train)\n",
    "X_test_for_data['new_feat']=new_feature(X_test_for_data,new_data_for_test)"
   ]
  },
  {
   "cell_type": "code",
   "execution_count": 56,
   "metadata": {},
   "outputs": [
    {
     "name": "stdout",
     "output_type": "stream",
     "text": [
      "GridSearchCV(cv=5, error_score=nan,\n",
      "             estimator=RandomForestClassifier(bootstrap=True, ccp_alpha=0.0,\n",
      "                                              class_weight=None,\n",
      "                                              criterion='gini', max_depth=None,\n",
      "                                              max_features='auto',\n",
      "                                              max_leaf_nodes=None,\n",
      "                                              max_samples=None,\n",
      "                                              min_impurity_decrease=0.0,\n",
      "                                              min_impurity_split=None,\n",
      "                                              min_samples_leaf=1,\n",
      "                                              min_samples_split=2,\n",
      "                                              min_weight_fraction_leaf=0.0,\n",
      "                                              n_estimators=100, n_jobs=None,\n",
      "                                              oob_score=False, random_state=100,\n",
      "                                              verbose=0, warm_start=False),\n",
      "             iid='deprecated', n_jobs=None,\n",
      "             param_grid=[{'max_depth': array([5, 6, 7, 8, 9]),\n",
      "                          'max_features': array([5, 6, 7, 8]),\n",
      "                          'n_estimators': [10, 50, 100, 150]}],\n",
      "             pre_dispatch='2*n_jobs', refit=True, return_train_score=False,\n",
      "             scoring='accuracy', verbose=0) \n",
      "\n",
      "\n",
      "{'max_depth': 6, 'max_features': 7, 'n_estimators': 150} \n",
      "\n",
      "\n",
      "0.879 (+/-0.033) for {'max_depth': 5, 'max_features': 5, 'n_estimators': 10}\n",
      "0.870 (+/-0.074) for {'max_depth': 5, 'max_features': 5, 'n_estimators': 50}\n",
      "0.883 (+/-0.059) for {'max_depth': 5, 'max_features': 5, 'n_estimators': 100}\n",
      "0.878 (+/-0.058) for {'max_depth': 5, 'max_features': 5, 'n_estimators': 150}\n",
      "0.874 (+/-0.073) for {'max_depth': 5, 'max_features': 6, 'n_estimators': 10}\n",
      "0.866 (+/-0.058) for {'max_depth': 5, 'max_features': 6, 'n_estimators': 50}\n",
      "0.874 (+/-0.061) for {'max_depth': 5, 'max_features': 6, 'n_estimators': 100}\n",
      "0.878 (+/-0.058) for {'max_depth': 5, 'max_features': 6, 'n_estimators': 150}\n",
      "0.887 (+/-0.042) for {'max_depth': 5, 'max_features': 7, 'n_estimators': 10}\n",
      "0.891 (+/-0.051) for {'max_depth': 5, 'max_features': 7, 'n_estimators': 50}\n",
      "0.887 (+/-0.058) for {'max_depth': 5, 'max_features': 7, 'n_estimators': 100}\n",
      "0.895 (+/-0.048) for {'max_depth': 5, 'max_features': 7, 'n_estimators': 150}\n",
      "0.908 (+/-0.020) for {'max_depth': 5, 'max_features': 8, 'n_estimators': 10}\n",
      "0.887 (+/-0.044) for {'max_depth': 5, 'max_features': 8, 'n_estimators': 50}\n",
      "0.895 (+/-0.055) for {'max_depth': 5, 'max_features': 8, 'n_estimators': 100}\n",
      "0.899 (+/-0.063) for {'max_depth': 5, 'max_features': 8, 'n_estimators': 150}\n",
      "0.883 (+/-0.044) for {'max_depth': 6, 'max_features': 5, 'n_estimators': 10}\n",
      "0.879 (+/-0.050) for {'max_depth': 6, 'max_features': 5, 'n_estimators': 50}\n",
      "0.891 (+/-0.051) for {'max_depth': 6, 'max_features': 5, 'n_estimators': 100}\n",
      "0.891 (+/-0.051) for {'max_depth': 6, 'max_features': 5, 'n_estimators': 150}\n",
      "0.900 (+/-0.048) for {'max_depth': 6, 'max_features': 6, 'n_estimators': 10}\n",
      "0.887 (+/-0.044) for {'max_depth': 6, 'max_features': 6, 'n_estimators': 50}\n",
      "0.887 (+/-0.044) for {'max_depth': 6, 'max_features': 6, 'n_estimators': 100}\n",
      "0.895 (+/-0.048) for {'max_depth': 6, 'max_features': 6, 'n_estimators': 150}\n",
      "0.895 (+/-0.064) for {'max_depth': 6, 'max_features': 7, 'n_estimators': 10}\n",
      "0.899 (+/-0.042) for {'max_depth': 6, 'max_features': 7, 'n_estimators': 50}\n",
      "0.904 (+/-0.051) for {'max_depth': 6, 'max_features': 7, 'n_estimators': 100}\n",
      "0.912 (+/-0.057) for {'max_depth': 6, 'max_features': 7, 'n_estimators': 150}\n",
      "0.895 (+/-0.028) for {'max_depth': 6, 'max_features': 8, 'n_estimators': 10}\n",
      "0.899 (+/-0.033) for {'max_depth': 6, 'max_features': 8, 'n_estimators': 50}\n",
      "0.908 (+/-0.044) for {'max_depth': 6, 'max_features': 8, 'n_estimators': 100}\n",
      "0.908 (+/-0.044) for {'max_depth': 6, 'max_features': 8, 'n_estimators': 150}\n",
      "0.891 (+/-0.084) for {'max_depth': 7, 'max_features': 5, 'n_estimators': 10}\n",
      "0.891 (+/-0.032) for {'max_depth': 7, 'max_features': 5, 'n_estimators': 50}\n",
      "0.904 (+/-0.035) for {'max_depth': 7, 'max_features': 5, 'n_estimators': 100}\n",
      "0.904 (+/-0.059) for {'max_depth': 7, 'max_features': 5, 'n_estimators': 150}\n",
      "0.887 (+/-0.042) for {'max_depth': 7, 'max_features': 6, 'n_estimators': 10}\n",
      "0.895 (+/-0.061) for {'max_depth': 7, 'max_features': 6, 'n_estimators': 50}\n",
      "0.899 (+/-0.063) for {'max_depth': 7, 'max_features': 6, 'n_estimators': 100}\n",
      "0.904 (+/-0.059) for {'max_depth': 7, 'max_features': 6, 'n_estimators': 150}\n",
      "0.895 (+/-0.069) for {'max_depth': 7, 'max_features': 7, 'n_estimators': 10}\n",
      "0.904 (+/-0.051) for {'max_depth': 7, 'max_features': 7, 'n_estimators': 50}\n",
      "0.904 (+/-0.051) for {'max_depth': 7, 'max_features': 7, 'n_estimators': 100}\n",
      "0.908 (+/-0.064) for {'max_depth': 7, 'max_features': 7, 'n_estimators': 150}\n",
      "0.891 (+/-0.032) for {'max_depth': 7, 'max_features': 8, 'n_estimators': 10}\n",
      "0.904 (+/-0.044) for {'max_depth': 7, 'max_features': 8, 'n_estimators': 50}\n",
      "0.904 (+/-0.044) for {'max_depth': 7, 'max_features': 8, 'n_estimators': 100}\n",
      "0.908 (+/-0.058) for {'max_depth': 7, 'max_features': 8, 'n_estimators': 150}\n",
      "0.887 (+/-0.077) for {'max_depth': 8, 'max_features': 5, 'n_estimators': 10}\n",
      "0.904 (+/-0.035) for {'max_depth': 8, 'max_features': 5, 'n_estimators': 50}\n",
      "0.908 (+/-0.044) for {'max_depth': 8, 'max_features': 5, 'n_estimators': 100}\n",
      "0.912 (+/-0.057) for {'max_depth': 8, 'max_features': 5, 'n_estimators': 150}\n",
      "0.883 (+/-0.051) for {'max_depth': 8, 'max_features': 6, 'n_estimators': 10}\n",
      "0.899 (+/-0.063) for {'max_depth': 8, 'max_features': 6, 'n_estimators': 50}\n",
      "0.899 (+/-0.063) for {'max_depth': 8, 'max_features': 6, 'n_estimators': 100}\n",
      "0.912 (+/-0.057) for {'max_depth': 8, 'max_features': 6, 'n_estimators': 150}\n",
      "0.887 (+/-0.034) for {'max_depth': 8, 'max_features': 7, 'n_estimators': 10}\n",
      "0.904 (+/-0.051) for {'max_depth': 8, 'max_features': 7, 'n_estimators': 50}\n",
      "0.904 (+/-0.051) for {'max_depth': 8, 'max_features': 7, 'n_estimators': 100}\n",
      "0.912 (+/-0.057) for {'max_depth': 8, 'max_features': 7, 'n_estimators': 150}\n",
      "0.908 (+/-0.020) for {'max_depth': 8, 'max_features': 8, 'n_estimators': 10}\n",
      "0.904 (+/-0.035) for {'max_depth': 8, 'max_features': 8, 'n_estimators': 50}\n",
      "0.904 (+/-0.035) for {'max_depth': 8, 'max_features': 8, 'n_estimators': 100}\n",
      "0.908 (+/-0.044) for {'max_depth': 8, 'max_features': 8, 'n_estimators': 150}\n",
      "0.883 (+/-0.056) for {'max_depth': 9, 'max_features': 5, 'n_estimators': 10}\n",
      "0.904 (+/-0.051) for {'max_depth': 9, 'max_features': 5, 'n_estimators': 50}\n",
      "0.912 (+/-0.057) for {'max_depth': 9, 'max_features': 5, 'n_estimators': 100}\n",
      "0.912 (+/-0.057) for {'max_depth': 9, 'max_features': 5, 'n_estimators': 150}\n",
      "0.891 (+/-0.043) for {'max_depth': 9, 'max_features': 6, 'n_estimators': 10}\n",
      "0.899 (+/-0.063) for {'max_depth': 9, 'max_features': 6, 'n_estimators': 50}\n",
      "0.904 (+/-0.074) for {'max_depth': 9, 'max_features': 6, 'n_estimators': 100}\n",
      "0.908 (+/-0.070) for {'max_depth': 9, 'max_features': 6, 'n_estimators': 150}\n",
      "0.891 (+/-0.054) for {'max_depth': 9, 'max_features': 7, 'n_estimators': 10}\n",
      "0.899 (+/-0.042) for {'max_depth': 9, 'max_features': 7, 'n_estimators': 50}\n",
      "0.899 (+/-0.042) for {'max_depth': 9, 'max_features': 7, 'n_estimators': 100}\n",
      "0.904 (+/-0.051) for {'max_depth': 9, 'max_features': 7, 'n_estimators': 150}\n",
      "0.904 (+/-0.020) for {'max_depth': 9, 'max_features': 8, 'n_estimators': 10}\n",
      "0.904 (+/-0.035) for {'max_depth': 9, 'max_features': 8, 'n_estimators': 50}\n",
      "0.908 (+/-0.044) for {'max_depth': 9, 'max_features': 8, 'n_estimators': 100}\n",
      "0.908 (+/-0.044) for {'max_depth': 9, 'max_features': 8, 'n_estimators': 150}\n",
      "\n",
      "\n",
      "f1_score 0.9007894736842106\n"
     ]
    }
   ],
   "source": [
    "RFC_(X_train_for_data, X_test_for_data, y_train_for_data, y_test_for_data)"
   ]
  },
  {
   "cell_type": "code",
   "execution_count": 57,
   "metadata": {},
   "outputs": [],
   "source": [
    "model=RandomForestClassifier(max_depth=6, n_estimators=150).fit(X_train_for_data,y_train_for_data)\n"
   ]
  },
  {
   "cell_type": "code",
   "execution_count": 58,
   "metadata": {},
   "outputs": [],
   "source": [
    "f_i=pd.DataFrame(model.feature_importances_,index=X_train_for_data.columns,columns=['value'])"
   ]
  },
  {
   "cell_type": "code",
   "execution_count": 59,
   "metadata": {},
   "outputs": [
    {
     "data": {
      "text/plain": [
       "<matplotlib.axes._subplots.AxesSubplot at 0x24788ec6888>"
      ]
     },
     "execution_count": 59,
     "metadata": {},
     "output_type": "execute_result"
    },
    {
     "data": {
      "image/png": "[encoded data removed]",
      "text/plain": [
       "<Figure size 432x288 with 1 Axes>"
      ]
     },
     "metadata": {
      "needs_background": "light"
     },
     "output_type": "display_data"
    }
   ],
   "source": [
    "f_i.plot(kind='bar')"
   ]
  },
  {
   "cell_type": "code",
   "execution_count": 60,
   "metadata": {},
   "outputs": [
    {
     "data": {
      "text/plain": [
       "0.8279328072692491"
      ]
     },
     "execution_count": 60,
     "metadata": {},
     "output_type": "execute_result"
    }
   ],
   "source": [
    "f1_score_(y_test_for_data,model.predict(X_test_for_data))"
   ]
  },
  {
   "cell_type": "markdown",
   "metadata": {},
   "source": [
    "<blockquote>попробуем промасшатабировать признаки\n",
    "</blockquote>"
   ]
  },
  {
   "cell_type": "code",
   "execution_count": 61,
   "metadata": {},
   "outputs": [],
   "source": [
    "scaler = StandardScaler()\n",
    "X_train_scaled = scaler.fit_transform(X_train_for_data)\n",
    "\n",
    "X_train_scaled = pd.DataFrame(X_train_scaled, columns=X_train_for_data.columns)\n",
    "\n",
    "X_test_scaled = scaler.transform(X_test_for_data)\n",
    "\n",
    "X_test_scaled = pd.DataFrame(X_test_scaled, columns=X_test_for_data.columns)"
   ]
  },
  {
   "cell_type": "code",
   "execution_count": 62,
   "metadata": {},
   "outputs": [
    {
     "name": "stdout",
     "output_type": "stream",
     "text": [
      "GridSearchCV(cv=5, error_score=nan,\n",
      "             estimator=RandomForestClassifier(bootstrap=True, ccp_alpha=0.0,\n",
      "                                              class_weight=None,\n",
      "                                              criterion='gini', max_depth=None,\n",
      "                                              max_features='auto',\n",
      "                                              max_leaf_nodes=None,\n",
      "                                              max_samples=None,\n",
      "                                              min_impurity_decrease=0.0,\n",
      "                                              min_impurity_split=None,\n",
      "                                              min_samples_leaf=1,\n",
      "                                              min_samples_split=2,\n",
      "                                              min_weight_fraction_leaf=0.0,\n",
      "                                              n_estimators=100, n_jobs=None,\n",
      "                                              oob_score=False, random_state=100,\n",
      "                                              verbose=0, warm_start=False),\n",
      "             iid='deprecated', n_jobs=None,\n",
      "             param_grid=[{'max_depth': array([5, 6, 7, 8, 9]),\n",
      "                          'max_features': array([5, 6, 7, 8]),\n",
      "                          'n_estimators': [10, 50, 100, 150]}],\n",
      "             pre_dispatch='2*n_jobs', refit=True, return_train_score=False,\n",
      "             scoring='accuracy', verbose=0) \n",
      "\n",
      "\n",
      "{'max_depth': 6, 'max_features': 7, 'n_estimators': 150} \n",
      "\n",
      "\n",
      "0.879 (+/-0.033) for {'max_depth': 5, 'max_features': 5, 'n_estimators': 10}\n",
      "0.870 (+/-0.074) for {'max_depth': 5, 'max_features': 5, 'n_estimators': 50}\n",
      "0.883 (+/-0.059) for {'max_depth': 5, 'max_features': 5, 'n_estimators': 100}\n",
      "0.883 (+/-0.059) for {'max_depth': 5, 'max_features': 5, 'n_estimators': 150}\n",
      "0.870 (+/-0.074) for {'max_depth': 5, 'max_features': 6, 'n_estimators': 10}\n",
      "0.866 (+/-0.058) for {'max_depth': 5, 'max_features': 6, 'n_estimators': 50}\n",
      "0.874 (+/-0.061) for {'max_depth': 5, 'max_features': 6, 'n_estimators': 100}\n",
      "0.878 (+/-0.058) for {'max_depth': 5, 'max_features': 6, 'n_estimators': 150}\n",
      "0.887 (+/-0.042) for {'max_depth': 5, 'max_features': 7, 'n_estimators': 10}\n",
      "0.891 (+/-0.051) for {'max_depth': 5, 'max_features': 7, 'n_estimators': 50}\n",
      "0.891 (+/-0.051) for {'max_depth': 5, 'max_features': 7, 'n_estimators': 100}\n",
      "0.899 (+/-0.051) for {'max_depth': 5, 'max_features': 7, 'n_estimators': 150}\n",
      "0.908 (+/-0.020) for {'max_depth': 5, 'max_features': 8, 'n_estimators': 10}\n",
      "0.887 (+/-0.044) for {'max_depth': 5, 'max_features': 8, 'n_estimators': 50}\n",
      "0.895 (+/-0.055) for {'max_depth': 5, 'max_features': 8, 'n_estimators': 100}\n",
      "0.899 (+/-0.063) for {'max_depth': 5, 'max_features': 8, 'n_estimators': 150}\n",
      "0.883 (+/-0.044) for {'max_depth': 6, 'max_features': 5, 'n_estimators': 10}\n",
      "0.879 (+/-0.050) for {'max_depth': 6, 'max_features': 5, 'n_estimators': 50}\n",
      "0.891 (+/-0.051) for {'max_depth': 6, 'max_features': 5, 'n_estimators': 100}\n",
      "0.891 (+/-0.051) for {'max_depth': 6, 'max_features': 5, 'n_estimators': 150}\n",
      "0.900 (+/-0.048) for {'max_depth': 6, 'max_features': 6, 'n_estimators': 10}\n",
      "0.887 (+/-0.044) for {'max_depth': 6, 'max_features': 6, 'n_estimators': 50}\n",
      "0.883 (+/-0.044) for {'max_depth': 6, 'max_features': 6, 'n_estimators': 100}\n",
      "0.895 (+/-0.048) for {'max_depth': 6, 'max_features': 6, 'n_estimators': 150}\n",
      "0.900 (+/-0.071) for {'max_depth': 6, 'max_features': 7, 'n_estimators': 10}\n",
      "0.899 (+/-0.042) for {'max_depth': 6, 'max_features': 7, 'n_estimators': 50}\n",
      "0.904 (+/-0.051) for {'max_depth': 6, 'max_features': 7, 'n_estimators': 100}\n",
      "0.912 (+/-0.057) for {'max_depth': 6, 'max_features': 7, 'n_estimators': 150}\n",
      "0.891 (+/-0.032) for {'max_depth': 6, 'max_features': 8, 'n_estimators': 10}\n",
      "0.895 (+/-0.038) for {'max_depth': 6, 'max_features': 8, 'n_estimators': 50}\n",
      "0.904 (+/-0.044) for {'max_depth': 6, 'max_features': 8, 'n_estimators': 100}\n",
      "0.904 (+/-0.044) for {'max_depth': 6, 'max_features': 8, 'n_estimators': 150}\n",
      "0.891 (+/-0.084) for {'max_depth': 7, 'max_features': 5, 'n_estimators': 10}\n",
      "0.895 (+/-0.038) for {'max_depth': 7, 'max_features': 5, 'n_estimators': 50}\n",
      "0.904 (+/-0.035) for {'max_depth': 7, 'max_features': 5, 'n_estimators': 100}\n",
      "0.904 (+/-0.059) for {'max_depth': 7, 'max_features': 5, 'n_estimators': 150}\n",
      "0.887 (+/-0.049) for {'max_depth': 7, 'max_features': 6, 'n_estimators': 10}\n",
      "0.895 (+/-0.061) for {'max_depth': 7, 'max_features': 6, 'n_estimators': 50}\n",
      "0.899 (+/-0.063) for {'max_depth': 7, 'max_features': 6, 'n_estimators': 100}\n",
      "0.904 (+/-0.059) for {'max_depth': 7, 'max_features': 6, 'n_estimators': 150}\n",
      "0.891 (+/-0.061) for {'max_depth': 7, 'max_features': 7, 'n_estimators': 10}\n",
      "0.904 (+/-0.051) for {'max_depth': 7, 'max_features': 7, 'n_estimators': 50}\n",
      "0.899 (+/-0.050) for {'max_depth': 7, 'max_features': 7, 'n_estimators': 100}\n",
      "0.904 (+/-0.063) for {'max_depth': 7, 'max_features': 7, 'n_estimators': 150}\n",
      "0.891 (+/-0.032) for {'max_depth': 7, 'max_features': 8, 'n_estimators': 10}\n",
      "0.904 (+/-0.044) for {'max_depth': 7, 'max_features': 8, 'n_estimators': 50}\n",
      "0.899 (+/-0.050) for {'max_depth': 7, 'max_features': 8, 'n_estimators': 100}\n",
      "0.904 (+/-0.063) for {'max_depth': 7, 'max_features': 8, 'n_estimators': 150}\n",
      "0.887 (+/-0.077) for {'max_depth': 8, 'max_features': 5, 'n_estimators': 10}\n",
      "0.904 (+/-0.035) for {'max_depth': 8, 'max_features': 5, 'n_estimators': 50}\n",
      "0.904 (+/-0.044) for {'max_depth': 8, 'max_features': 5, 'n_estimators': 100}\n",
      "0.908 (+/-0.058) for {'max_depth': 8, 'max_features': 5, 'n_estimators': 150}\n",
      "0.883 (+/-0.051) for {'max_depth': 8, 'max_features': 6, 'n_estimators': 10}\n",
      "0.899 (+/-0.063) for {'max_depth': 8, 'max_features': 6, 'n_estimators': 50}\n",
      "0.899 (+/-0.063) for {'max_depth': 8, 'max_features': 6, 'n_estimators': 100}\n",
      "0.908 (+/-0.044) for {'max_depth': 8, 'max_features': 6, 'n_estimators': 150}\n",
      "0.887 (+/-0.034) for {'max_depth': 8, 'max_features': 7, 'n_estimators': 10}\n",
      "0.899 (+/-0.050) for {'max_depth': 8, 'max_features': 7, 'n_estimators': 50}\n",
      "0.899 (+/-0.050) for {'max_depth': 8, 'max_features': 7, 'n_estimators': 100}\n",
      "0.908 (+/-0.058) for {'max_depth': 8, 'max_features': 7, 'n_estimators': 150}\n",
      "0.908 (+/-0.020) for {'max_depth': 8, 'max_features': 8, 'n_estimators': 10}\n",
      "0.904 (+/-0.035) for {'max_depth': 8, 'max_features': 8, 'n_estimators': 50}\n",
      "0.899 (+/-0.033) for {'max_depth': 8, 'max_features': 8, 'n_estimators': 100}\n",
      "0.904 (+/-0.044) for {'max_depth': 8, 'max_features': 8, 'n_estimators': 150}\n",
      "0.887 (+/-0.042) for {'max_depth': 9, 'max_features': 5, 'n_estimators': 10}\n",
      "0.899 (+/-0.050) for {'max_depth': 9, 'max_features': 5, 'n_estimators': 50}\n",
      "0.908 (+/-0.058) for {'max_depth': 9, 'max_features': 5, 'n_estimators': 100}\n",
      "0.908 (+/-0.058) for {'max_depth': 9, 'max_features': 5, 'n_estimators': 150}\n",
      "0.891 (+/-0.043) for {'max_depth': 9, 'max_features': 6, 'n_estimators': 10}\n",
      "0.899 (+/-0.063) for {'max_depth': 9, 'max_features': 6, 'n_estimators': 50}\n",
      "0.899 (+/-0.073) for {'max_depth': 9, 'max_features': 6, 'n_estimators': 100}\n",
      "0.908 (+/-0.070) for {'max_depth': 9, 'max_features': 6, 'n_estimators': 150}\n",
      "0.891 (+/-0.054) for {'max_depth': 9, 'max_features': 7, 'n_estimators': 10}\n",
      "0.899 (+/-0.042) for {'max_depth': 9, 'max_features': 7, 'n_estimators': 50}\n",
      "0.895 (+/-0.038) for {'max_depth': 9, 'max_features': 7, 'n_estimators': 100}\n",
      "0.899 (+/-0.050) for {'max_depth': 9, 'max_features': 7, 'n_estimators': 150}\n",
      "0.904 (+/-0.020) for {'max_depth': 9, 'max_features': 8, 'n_estimators': 10}\n",
      "0.899 (+/-0.033) for {'max_depth': 9, 'max_features': 8, 'n_estimators': 50}\n",
      "0.904 (+/-0.044) for {'max_depth': 9, 'max_features': 8, 'n_estimators': 100}\n",
      "0.904 (+/-0.044) for {'max_depth': 9, 'max_features': 8, 'n_estimators': 150}\n",
      "\n",
      "\n",
      "f1_score 0.9007894736842106\n"
     ]
    }
   ],
   "source": [
    "RFC_(X_train_scaled, X_test_scaled, y_train_for_data, y_test_for_data)"
   ]
  },
  {
   "cell_type": "code",
   "execution_count": 63,
   "metadata": {},
   "outputs": [],
   "source": [
    "model=RandomForestClassifier(max_depth=6,max_features=6, n_estimators=150).fit(X_train_scaled,y_train_for_data)"
   ]
  },
  {
   "cell_type": "code",
   "execution_count": 64,
   "metadata": {},
   "outputs": [],
   "source": [
    "f_i=pd.DataFrame(model.feature_importances_,index=X_train_for_data.columns,columns=['value'])"
   ]
  },
  {
   "cell_type": "code",
   "execution_count": 65,
   "metadata": {},
   "outputs": [
    {
     "data": {
      "text/plain": [
       "<matplotlib.axes._subplots.AxesSubplot at 0x24788e9f548>"
      ]
     },
     "execution_count": 65,
     "metadata": {},
     "output_type": "execute_result"
    },
    {
     "data": {
      "image/png": "[encoded data removed]",
      "text/plain": [
       "<Figure size 432x288 with 1 Axes>"
      ]
     },
     "metadata": {
      "needs_background": "light"
     },
     "output_type": "display_data"
    }
   ],
   "source": [
    "f_i.plot(kind='bar')"
   ]
  },
  {
   "cell_type": "code",
   "execution_count": 66,
   "metadata": {},
   "outputs": [
    {
     "data": {
      "text/plain": [
       "0.8881452429149798"
      ]
     },
     "execution_count": 66,
     "metadata": {},
     "output_type": "execute_result"
    }
   ],
   "source": [
    "f1_score_(y_test_for_data,model.predict(X_test_scaled))"
   ]
  },
  {
   "cell_type": "markdown",
   "metadata": {},
   "source": [
    "<blockquote>Попробуем ввести еще один признак\n",
    "</blockquote>"
   ]
  },
  {
   "cell_type": "code",
   "execution_count": 67,
   "metadata": {},
   "outputs": [],
   "source": [
    "temp_table=pd.DataFrame(data.loc[X_train_for_data.index,'commit_author'])\n",
    "temp_table['new_feat_for_train']=new_data_for_train\n",
    "temp_table['new_feat_for_train']=code_factor(temp_table,'commit_author','new_feat_for_train')\n",
    "X_train_for_data['new_feat_2']=temp_table['new_feat_for_train']\n",
    "temp_table=pd.DataFrame(data.loc[X_test_for_data.index,'commit_author'])\n",
    "temp_table['new_feat_for_test']=new_data_for_test\n",
    "temp_table['new_feat_for_test']=code_factor(temp_table,'commit_author','new_feat_for_test')\n",
    "X_test_for_data['new_feat_2']=temp_table['new_feat_for_test']\n"
   ]
  },
  {
   "cell_type": "code",
   "execution_count": 68,
   "metadata": {},
   "outputs": [
    {
     "name": "stdout",
     "output_type": "stream",
     "text": [
      "GridSearchCV(cv=5, error_score=nan,\n",
      "             estimator=RandomForestClassifier(bootstrap=True, ccp_alpha=0.0,\n",
      "                                              class_weight=None,\n",
      "                                              criterion='gini', max_depth=None,\n",
      "                                              max_features='auto',\n",
      "                                              max_leaf_nodes=None,\n",
      "                                              max_samples=None,\n",
      "                                              min_impurity_decrease=0.0,\n",
      "                                              min_impurity_split=None,\n",
      "                                              min_samples_leaf=1,\n",
      "                                              min_samples_split=2,\n",
      "                                              min_weight_fraction_leaf=0.0,\n",
      "                                              n_estimators=100, n_jobs=None,\n",
      "                                              oob_score=False, random_state=100,\n",
      "                                              verbose=0, warm_start=False),\n",
      "             iid='deprecated', n_jobs=None,\n",
      "             param_grid=[{'max_depth': array([5, 6, 7, 8, 9]),\n",
      "                          'max_features': array([5, 6, 7, 8]),\n",
      "                          'n_estimators': [10, 50, 100, 150]}],\n",
      "             pre_dispatch='2*n_jobs', refit=True, return_train_score=False,\n",
      "             scoring='accuracy', verbose=0) \n",
      "\n",
      "\n",
      "{'max_depth': 6, 'max_features': 7, 'n_estimators': 100} \n",
      "\n",
      "\n",
      "0.849 (+/-0.067) for {'max_depth': 5, 'max_features': 5, 'n_estimators': 10}\n",
      "0.858 (+/-0.062) for {'max_depth': 5, 'max_features': 5, 'n_estimators': 50}\n",
      "0.870 (+/-0.063) for {'max_depth': 5, 'max_features': 5, 'n_estimators': 100}\n",
      "0.862 (+/-0.078) for {'max_depth': 5, 'max_features': 5, 'n_estimators': 150}\n",
      "0.862 (+/-0.068) for {'max_depth': 5, 'max_features': 6, 'n_estimators': 10}\n",
      "0.878 (+/-0.058) for {'max_depth': 5, 'max_features': 6, 'n_estimators': 50}\n",
      "0.883 (+/-0.070) for {'max_depth': 5, 'max_features': 6, 'n_estimators': 100}\n",
      "0.887 (+/-0.079) for {'max_depth': 5, 'max_features': 6, 'n_estimators': 150}\n",
      "0.845 (+/-0.064) for {'max_depth': 5, 'max_features': 7, 'n_estimators': 10}\n",
      "0.883 (+/-0.088) for {'max_depth': 5, 'max_features': 7, 'n_estimators': 50}\n",
      "0.891 (+/-0.051) for {'max_depth': 5, 'max_features': 7, 'n_estimators': 100}\n",
      "0.887 (+/-0.058) for {'max_depth': 5, 'max_features': 7, 'n_estimators': 150}\n",
      "0.883 (+/-0.059) for {'max_depth': 5, 'max_features': 8, 'n_estimators': 10}\n",
      "0.887 (+/-0.058) for {'max_depth': 5, 'max_features': 8, 'n_estimators': 50}\n",
      "0.891 (+/-0.063) for {'max_depth': 5, 'max_features': 8, 'n_estimators': 100}\n",
      "0.891 (+/-0.063) for {'max_depth': 5, 'max_features': 8, 'n_estimators': 150}\n",
      "0.870 (+/-0.040) for {'max_depth': 6, 'max_features': 5, 'n_estimators': 10}\n",
      "0.887 (+/-0.052) for {'max_depth': 6, 'max_features': 5, 'n_estimators': 50}\n",
      "0.895 (+/-0.028) for {'max_depth': 6, 'max_features': 5, 'n_estimators': 100}\n",
      "0.904 (+/-0.044) for {'max_depth': 6, 'max_features': 5, 'n_estimators': 150}\n",
      "0.870 (+/-0.033) for {'max_depth': 6, 'max_features': 6, 'n_estimators': 10}\n",
      "0.895 (+/-0.038) for {'max_depth': 6, 'max_features': 6, 'n_estimators': 50}\n",
      "0.904 (+/-0.035) for {'max_depth': 6, 'max_features': 6, 'n_estimators': 100}\n",
      "0.908 (+/-0.044) for {'max_depth': 6, 'max_features': 6, 'n_estimators': 150}\n",
      "0.891 (+/-0.016) for {'max_depth': 6, 'max_features': 7, 'n_estimators': 10}\n",
      "0.908 (+/-0.044) for {'max_depth': 6, 'max_features': 7, 'n_estimators': 50}\n",
      "0.912 (+/-0.057) for {'max_depth': 6, 'max_features': 7, 'n_estimators': 100}\n",
      "0.912 (+/-0.057) for {'max_depth': 6, 'max_features': 7, 'n_estimators': 150}\n",
      "0.887 (+/-0.043) for {'max_depth': 6, 'max_features': 8, 'n_estimators': 10}\n",
      "0.904 (+/-0.051) for {'max_depth': 6, 'max_features': 8, 'n_estimators': 50}\n",
      "0.904 (+/-0.051) for {'max_depth': 6, 'max_features': 8, 'n_estimators': 100}\n",
      "0.904 (+/-0.051) for {'max_depth': 6, 'max_features': 8, 'n_estimators': 150}\n",
      "0.870 (+/-0.031) for {'max_depth': 7, 'max_features': 5, 'n_estimators': 10}\n",
      "0.891 (+/-0.062) for {'max_depth': 7, 'max_features': 5, 'n_estimators': 50}\n",
      "0.904 (+/-0.044) for {'max_depth': 7, 'max_features': 5, 'n_estimators': 100}\n",
      "0.904 (+/-0.044) for {'max_depth': 7, 'max_features': 5, 'n_estimators': 150}\n",
      "0.896 (+/-0.058) for {'max_depth': 7, 'max_features': 6, 'n_estimators': 10}\n",
      "0.904 (+/-0.044) for {'max_depth': 7, 'max_features': 6, 'n_estimators': 50}\n",
      "0.908 (+/-0.044) for {'max_depth': 7, 'max_features': 6, 'n_estimators': 100}\n",
      "0.904 (+/-0.035) for {'max_depth': 7, 'max_features': 6, 'n_estimators': 150}\n",
      "0.891 (+/-0.032) for {'max_depth': 7, 'max_features': 7, 'n_estimators': 10}\n",
      "0.908 (+/-0.044) for {'max_depth': 7, 'max_features': 7, 'n_estimators': 50}\n",
      "0.908 (+/-0.044) for {'max_depth': 7, 'max_features': 7, 'n_estimators': 100}\n",
      "0.908 (+/-0.044) for {'max_depth': 7, 'max_features': 7, 'n_estimators': 150}\n",
      "0.895 (+/-0.038) for {'max_depth': 7, 'max_features': 8, 'n_estimators': 10}\n",
      "0.912 (+/-0.077) for {'max_depth': 7, 'max_features': 8, 'n_estimators': 50}\n",
      "0.908 (+/-0.044) for {'max_depth': 7, 'max_features': 8, 'n_estimators': 100}\n",
      "0.912 (+/-0.057) for {'max_depth': 7, 'max_features': 8, 'n_estimators': 150}\n",
      "0.879 (+/-0.055) for {'max_depth': 8, 'max_features': 5, 'n_estimators': 10}\n",
      "0.883 (+/-0.057) for {'max_depth': 8, 'max_features': 5, 'n_estimators': 50}\n",
      "0.891 (+/-0.032) for {'max_depth': 8, 'max_features': 5, 'n_estimators': 100}\n",
      "0.899 (+/-0.033) for {'max_depth': 8, 'max_features': 5, 'n_estimators': 150}\n",
      "0.879 (+/-0.041) for {'max_depth': 8, 'max_features': 6, 'n_estimators': 10}\n",
      "0.908 (+/-0.044) for {'max_depth': 8, 'max_features': 6, 'n_estimators': 50}\n",
      "0.908 (+/-0.044) for {'max_depth': 8, 'max_features': 6, 'n_estimators': 100}\n",
      "0.908 (+/-0.044) for {'max_depth': 8, 'max_features': 6, 'n_estimators': 150}\n",
      "0.887 (+/-0.034) for {'max_depth': 8, 'max_features': 7, 'n_estimators': 10}\n",
      "0.908 (+/-0.044) for {'max_depth': 8, 'max_features': 7, 'n_estimators': 50}\n",
      "0.908 (+/-0.044) for {'max_depth': 8, 'max_features': 7, 'n_estimators': 100}\n",
      "0.912 (+/-0.057) for {'max_depth': 8, 'max_features': 7, 'n_estimators': 150}\n",
      "0.895 (+/-0.038) for {'max_depth': 8, 'max_features': 8, 'n_estimators': 10}\n",
      "0.904 (+/-0.044) for {'max_depth': 8, 'max_features': 8, 'n_estimators': 50}\n",
      "0.904 (+/-0.035) for {'max_depth': 8, 'max_features': 8, 'n_estimators': 100}\n",
      "0.912 (+/-0.057) for {'max_depth': 8, 'max_features': 8, 'n_estimators': 150}\n",
      "0.879 (+/-0.081) for {'max_depth': 9, 'max_features': 5, 'n_estimators': 10}\n",
      "0.891 (+/-0.042) for {'max_depth': 9, 'max_features': 5, 'n_estimators': 50}\n",
      "0.895 (+/-0.028) for {'max_depth': 9, 'max_features': 5, 'n_estimators': 100}\n",
      "0.904 (+/-0.051) for {'max_depth': 9, 'max_features': 5, 'n_estimators': 150}\n",
      "0.879 (+/-0.068) for {'max_depth': 9, 'max_features': 6, 'n_estimators': 10}\n",
      "0.908 (+/-0.058) for {'max_depth': 9, 'max_features': 6, 'n_estimators': 50}\n",
      "0.908 (+/-0.044) for {'max_depth': 9, 'max_features': 6, 'n_estimators': 100}\n",
      "0.908 (+/-0.044) for {'max_depth': 9, 'max_features': 6, 'n_estimators': 150}\n",
      "0.883 (+/-0.034) for {'max_depth': 9, 'max_features': 7, 'n_estimators': 10}\n",
      "0.895 (+/-0.054) for {'max_depth': 9, 'max_features': 7, 'n_estimators': 50}\n",
      "0.912 (+/-0.057) for {'max_depth': 9, 'max_features': 7, 'n_estimators': 100}\n",
      "0.912 (+/-0.057) for {'max_depth': 9, 'max_features': 7, 'n_estimators': 150}\n",
      "0.904 (+/-0.044) for {'max_depth': 9, 'max_features': 8, 'n_estimators': 10}\n",
      "0.904 (+/-0.044) for {'max_depth': 9, 'max_features': 8, 'n_estimators': 50}\n",
      "0.904 (+/-0.044) for {'max_depth': 9, 'max_features': 8, 'n_estimators': 100}\n",
      "0.912 (+/-0.057) for {'max_depth': 9, 'max_features': 8, 'n_estimators': 150}\n",
      "\n",
      "\n",
      "f1_score 0.9007894736842106\n"
     ]
    }
   ],
   "source": [
    "RFC_(X_train_for_data, X_test_for_data, y_train_for_data, y_test_for_data)"
   ]
  },
  {
   "cell_type": "code",
   "execution_count": 69,
   "metadata": {},
   "outputs": [],
   "source": [
    "model=RandomForestClassifier(max_depth=6,n_estimators=100).fit(X_train_for_data,y_train_for_data)"
   ]
  },
  {
   "cell_type": "code",
   "execution_count": 70,
   "metadata": {},
   "outputs": [
    {
     "data": {
      "text/plain": [
       "<matplotlib.axes._subplots.AxesSubplot at 0x24789633e48>"
      ]
     },
     "execution_count": 70,
     "metadata": {},
     "output_type": "execute_result"
    },
    {
     "data": {
      "image/png": "[encoded data removed]",
      "text/plain": [
       "<Figure size 432x288 with 1 Axes>"
      ]
     },
     "metadata": {
      "needs_background": "light"
     },
     "output_type": "display_data"
    }
   ],
   "source": [
    "f_i=pd.DataFrame(model.feature_importances_,index=X_train_for_data.columns,columns=['value'])\n",
    "f_i.plot(kind='bar')"
   ]
  },
  {
   "cell_type": "code",
   "execution_count": 71,
   "metadata": {},
   "outputs": [
    {
     "data": {
      "text/plain": [
       "0.8573803827751195"
      ]
     },
     "execution_count": 71,
     "metadata": {},
     "output_type": "execute_result"
    }
   ],
   "source": [
    "f1_score_(y_test_for_data,model.predict(X_test_for_data))"
   ]
  },
  {
   "cell_type": "markdown",
   "metadata": {},
   "source": [
    "<blockquote>Попробуем предсказать непрерывную величину.\n",
    "</blockquote>"
   ]
  },
  {
   "cell_type": "code",
   "execution_count": 72,
   "metadata": {},
   "outputs": [],
   "source": [
    "y_train_for_data, y_test_for_data=train_test_split(temp_data['bugs'], test_size=0.25, random_state=42)"
   ]
  },
  {
   "cell_type": "code",
   "execution_count": 73,
   "metadata": {},
   "outputs": [
    {
     "name": "stdout",
     "output_type": "stream",
     "text": [
      "GridSearchCV(cv=5, error_score=nan,\n",
      "             estimator=RandomForestRegressor(bootstrap=True, ccp_alpha=0.0,\n",
      "                                             criterion='mse', max_depth=None,\n",
      "                                             max_features='auto',\n",
      "                                             max_leaf_nodes=None,\n",
      "                                             max_samples=None,\n",
      "                                             min_impurity_decrease=0.0,\n",
      "                                             min_impurity_split=None,\n",
      "                                             min_samples_leaf=1,\n",
      "                                             min_samples_split=2,\n",
      "                                             min_weight_fraction_leaf=0.0,\n",
      "                                             n_estimators=100, n_jobs=None,\n",
      "                                             oob_score=False, random_state=100,\n",
      "                                             verbose=0, warm_start=False),\n",
      "             iid='deprecated', n_jobs=None,\n",
      "             param_grid=[{'max_depth': array([5, 6, 7, 8, 9]),\n",
      "                          'max_features': array([5, 6, 7, 8]),\n",
      "                          'n_estimators': [10, 50, 100, 150]}],\n",
      "             pre_dispatch='2*n_jobs', refit=True, return_train_score=False,\n",
      "             scoring=None, verbose=0) \n",
      "\n",
      "\n",
      "{'max_depth': 8, 'max_features': 8, 'n_estimators': 100} \n",
      "\n",
      "\n",
      "0.658 (+/-0.252) for {'max_depth': 5, 'max_features': 5, 'n_estimators': 10}\n",
      "0.669 (+/-0.246) for {'max_depth': 5, 'max_features': 5, 'n_estimators': 50}\n",
      "0.670 (+/-0.247) for {'max_depth': 5, 'max_features': 5, 'n_estimators': 100}\n",
      "0.663 (+/-0.246) for {'max_depth': 5, 'max_features': 5, 'n_estimators': 150}\n",
      "0.668 (+/-0.229) for {'max_depth': 5, 'max_features': 6, 'n_estimators': 10}\n",
      "0.679 (+/-0.278) for {'max_depth': 5, 'max_features': 6, 'n_estimators': 50}\n",
      "0.687 (+/-0.276) for {'max_depth': 5, 'max_features': 6, 'n_estimators': 100}\n",
      "0.679 (+/-0.273) for {'max_depth': 5, 'max_features': 6, 'n_estimators': 150}\n",
      "0.660 (+/-0.248) for {'max_depth': 5, 'max_features': 7, 'n_estimators': 10}\n",
      "0.694 (+/-0.276) for {'max_depth': 5, 'max_features': 7, 'n_estimators': 50}\n",
      "0.697 (+/-0.292) for {'max_depth': 5, 'max_features': 7, 'n_estimators': 100}\n",
      "0.691 (+/-0.290) for {'max_depth': 5, 'max_features': 7, 'n_estimators': 150}\n",
      "0.667 (+/-0.225) for {'max_depth': 5, 'max_features': 8, 'n_estimators': 10}\n",
      "0.711 (+/-0.251) for {'max_depth': 5, 'max_features': 8, 'n_estimators': 50}\n",
      "0.714 (+/-0.276) for {'max_depth': 5, 'max_features': 8, 'n_estimators': 100}\n",
      "0.709 (+/-0.271) for {'max_depth': 5, 'max_features': 8, 'n_estimators': 150}\n",
      "0.674 (+/-0.229) for {'max_depth': 6, 'max_features': 5, 'n_estimators': 10}\n",
      "0.699 (+/-0.253) for {'max_depth': 6, 'max_features': 5, 'n_estimators': 50}\n",
      "0.701 (+/-0.258) for {'max_depth': 6, 'max_features': 5, 'n_estimators': 100}\n",
      "0.695 (+/-0.252) for {'max_depth': 6, 'max_features': 5, 'n_estimators': 150}\n",
      "0.711 (+/-0.178) for {'max_depth': 6, 'max_features': 6, 'n_estimators': 10}\n",
      "0.725 (+/-0.252) for {'max_depth': 6, 'max_features': 6, 'n_estimators': 50}\n",
      "0.720 (+/-0.250) for {'max_depth': 6, 'max_features': 6, 'n_estimators': 100}\n",
      "0.713 (+/-0.271) for {'max_depth': 6, 'max_features': 6, 'n_estimators': 150}\n",
      "0.662 (+/-0.314) for {'max_depth': 6, 'max_features': 7, 'n_estimators': 10}\n",
      "0.721 (+/-0.288) for {'max_depth': 6, 'max_features': 7, 'n_estimators': 50}\n",
      "0.718 (+/-0.285) for {'max_depth': 6, 'max_features': 7, 'n_estimators': 100}\n",
      "0.718 (+/-0.282) for {'max_depth': 6, 'max_features': 7, 'n_estimators': 150}\n",
      "0.687 (+/-0.304) for {'max_depth': 6, 'max_features': 8, 'n_estimators': 10}\n",
      "0.724 (+/-0.271) for {'max_depth': 6, 'max_features': 8, 'n_estimators': 50}\n",
      "0.732 (+/-0.277) for {'max_depth': 6, 'max_features': 8, 'n_estimators': 100}\n",
      "0.728 (+/-0.277) for {'max_depth': 6, 'max_features': 8, 'n_estimators': 150}\n",
      "0.664 (+/-0.288) for {'max_depth': 7, 'max_features': 5, 'n_estimators': 10}\n",
      "0.701 (+/-0.282) for {'max_depth': 7, 'max_features': 5, 'n_estimators': 50}\n",
      "0.714 (+/-0.278) for {'max_depth': 7, 'max_features': 5, 'n_estimators': 100}\n",
      "0.715 (+/-0.271) for {'max_depth': 7, 'max_features': 5, 'n_estimators': 150}\n",
      "0.706 (+/-0.227) for {'max_depth': 7, 'max_features': 6, 'n_estimators': 10}\n",
      "0.727 (+/-0.266) for {'max_depth': 7, 'max_features': 6, 'n_estimators': 50}\n",
      "0.734 (+/-0.282) for {'max_depth': 7, 'max_features': 6, 'n_estimators': 100}\n",
      "0.726 (+/-0.287) for {'max_depth': 7, 'max_features': 6, 'n_estimators': 150}\n",
      "0.709 (+/-0.224) for {'max_depth': 7, 'max_features': 7, 'n_estimators': 10}\n",
      "0.730 (+/-0.301) for {'max_depth': 7, 'max_features': 7, 'n_estimators': 50}\n",
      "0.737 (+/-0.300) for {'max_depth': 7, 'max_features': 7, 'n_estimators': 100}\n",
      "0.737 (+/-0.287) for {'max_depth': 7, 'max_features': 7, 'n_estimators': 150}\n",
      "0.701 (+/-0.208) for {'max_depth': 7, 'max_features': 8, 'n_estimators': 10}\n",
      "0.737 (+/-0.259) for {'max_depth': 7, 'max_features': 8, 'n_estimators': 50}\n",
      "0.744 (+/-0.278) for {'max_depth': 7, 'max_features': 8, 'n_estimators': 100}\n",
      "0.741 (+/-0.284) for {'max_depth': 7, 'max_features': 8, 'n_estimators': 150}\n",
      "0.685 (+/-0.250) for {'max_depth': 8, 'max_features': 5, 'n_estimators': 10}\n",
      "0.742 (+/-0.257) for {'max_depth': 8, 'max_features': 5, 'n_estimators': 50}\n",
      "0.736 (+/-0.269) for {'max_depth': 8, 'max_features': 5, 'n_estimators': 100}\n",
      "0.731 (+/-0.267) for {'max_depth': 8, 'max_features': 5, 'n_estimators': 150}\n",
      "0.716 (+/-0.268) for {'max_depth': 8, 'max_features': 6, 'n_estimators': 10}\n",
      "0.738 (+/-0.261) for {'max_depth': 8, 'max_features': 6, 'n_estimators': 50}\n",
      "0.746 (+/-0.272) for {'max_depth': 8, 'max_features': 6, 'n_estimators': 100}\n",
      "0.743 (+/-0.278) for {'max_depth': 8, 'max_features': 6, 'n_estimators': 150}\n",
      "0.714 (+/-0.253) for {'max_depth': 8, 'max_features': 7, 'n_estimators': 10}\n",
      "0.733 (+/-0.295) for {'max_depth': 8, 'max_features': 7, 'n_estimators': 50}\n",
      "0.742 (+/-0.305) for {'max_depth': 8, 'max_features': 7, 'n_estimators': 100}\n",
      "0.741 (+/-0.289) for {'max_depth': 8, 'max_features': 7, 'n_estimators': 150}\n",
      "0.747 (+/-0.226) for {'max_depth': 8, 'max_features': 8, 'n_estimators': 10}\n",
      "0.759 (+/-0.283) for {'max_depth': 8, 'max_features': 8, 'n_estimators': 50}\n",
      "0.765 (+/-0.281) for {'max_depth': 8, 'max_features': 8, 'n_estimators': 100}\n",
      "0.760 (+/-0.284) for {'max_depth': 8, 'max_features': 8, 'n_estimators': 150}\n",
      "0.716 (+/-0.206) for {'max_depth': 9, 'max_features': 5, 'n_estimators': 10}\n",
      "0.737 (+/-0.262) for {'max_depth': 9, 'max_features': 5, 'n_estimators': 50}\n",
      "0.740 (+/-0.283) for {'max_depth': 9, 'max_features': 5, 'n_estimators': 100}\n",
      "0.735 (+/-0.284) for {'max_depth': 9, 'max_features': 5, 'n_estimators': 150}\n",
      "0.731 (+/-0.234) for {'max_depth': 9, 'max_features': 6, 'n_estimators': 10}\n",
      "0.752 (+/-0.249) for {'max_depth': 9, 'max_features': 6, 'n_estimators': 50}\n",
      "0.753 (+/-0.272) for {'max_depth': 9, 'max_features': 6, 'n_estimators': 100}\n",
      "0.747 (+/-0.278) for {'max_depth': 9, 'max_features': 6, 'n_estimators': 150}\n",
      "0.735 (+/-0.234) for {'max_depth': 9, 'max_features': 7, 'n_estimators': 10}\n",
      "0.749 (+/-0.310) for {'max_depth': 9, 'max_features': 7, 'n_estimators': 50}\n",
      "0.749 (+/-0.308) for {'max_depth': 9, 'max_features': 7, 'n_estimators': 100}\n",
      "0.748 (+/-0.295) for {'max_depth': 9, 'max_features': 7, 'n_estimators': 150}\n",
      "0.706 (+/-0.289) for {'max_depth': 9, 'max_features': 8, 'n_estimators': 10}\n",
      "0.757 (+/-0.300) for {'max_depth': 9, 'max_features': 8, 'n_estimators': 50}\n",
      "0.758 (+/-0.297) for {'max_depth': 9, 'max_features': 8, 'n_estimators': 100}\n",
      "0.755 (+/-0.296) for {'max_depth': 9, 'max_features': 8, 'n_estimators': 150}\n",
      "\n",
      "\\score 0.7426210384038437\n"
     ]
    }
   ],
   "source": [
    "from sklearn.ensemble import RandomForestRegressor\n",
    "parameters = [{'n_estimators': [10,50,100,150],\n",
    "               'max_features': np.arange(5, 9),\n",
    "               'max_depth': np.arange(5, 10)}]\n",
    "\n",
    "clf = GridSearchCV(estimator=RandomForestRegressor(random_state=100), \n",
    "                   param_grid=parameters,\n",
    "                   cv=5)\n",
    "clf.fit(X_train_for_data, y_train_for_data)\n",
    "print(clf,'\\n\\n')\n",
    "print(clf.best_params_,'\\n\\n')\n",
    "means = clf.cv_results_['mean_test_score']\n",
    "stds = clf.cv_results_['std_test_score']\n",
    "\n",
    "for mean, std, params in zip(means, stds, clf.cv_results_['params']):\n",
    "        print(\"%0.3f (+/-%0.03f) for %r\" % (mean, std * 2, params))\n",
    "    \n",
    "\n",
    "print(f\"\\n\\score {(clf.score(X_test_for_data,y_test_for_data))}\")"
   ]
  },
  {
   "cell_type": "code",
   "execution_count": 123,
   "metadata": {},
   "outputs": [
    {
     "data": {
      "text/plain": [
       "array([3., 1., 3., 3., 5., 2., 2., 2., 2., 4., 4., 3., 2., 2., 3., 3., 2.,\n",
       "       5., 1., 2., 3., 5., 2., 5., 2., 2., 3., 4., 5., 2., 2., 4., 2., 1.,\n",
       "       4., 5., 2., 2., 4., 2., 4., 4., 4., 3., 3., 4., 5., 1., 3., 2., 4.,\n",
       "       3., 4., 3., 2., 2., 2., 4., 3., 2., 2., 2., 3., 2., 1., 5., 4., 2.,\n",
       "       1., 4., 3., 3., 3., 1., 6., 4., 4., 4., 3., 1.])"
      ]
     },
     "execution_count": 123,
     "metadata": {},
     "output_type": "execute_result"
    }
   ],
   "source": [
    "np.round(clf.predict(X_test_for_data))"
   ]
  },
  {
   "cell_type": "code",
   "execution_count": 124,
   "metadata": {},
   "outputs": [
    {
     "data": {
      "text/plain": [
       "array([3, 1, 3, 3, 5, 2, 2, 2, 2, 4, 4, 3, 2, 2, 2, 2, 2, 8, 1, 2, 3, 6,\n",
       "       2, 5, 0, 2, 3, 4, 5, 2, 2, 6, 2, 1, 4, 4, 2, 2, 4, 2, 4, 3, 4, 3,\n",
       "       3, 3, 7, 1, 2, 2, 4, 2, 3, 3, 2, 2, 2, 7, 3, 1, 2, 2, 0, 2, 1, 4,\n",
       "       4, 2, 1, 4, 3, 3, 3, 1, 7, 4, 5, 5, 3, 1], dtype=int64)"
      ]
     },
     "execution_count": 124,
     "metadata": {},
     "output_type": "execute_result"
    }
   ],
   "source": [
    "y_test_for_data.values"
   ]
  },
  {
   "cell_type": "code",
   "execution_count": 125,
   "metadata": {},
   "outputs": [],
   "source": [
    "from sklearn.metrics import mean_absolute_error,r2_score,mean_squared_error\n"
   ]
  },
  {
   "cell_type": "code",
   "execution_count": 126,
   "metadata": {},
   "outputs": [
    {
     "data": {
      "text/plain": [
       "0.3625"
      ]
     },
     "execution_count": 126,
     "metadata": {},
     "output_type": "execute_result"
    }
   ],
   "source": [
    "mean_absolute_error(y_test_for_data.values,np.round(clf.predict(X_test_for_data)))\n"
   ]
  },
  {
   "cell_type": "code",
   "execution_count": 127,
   "metadata": {},
   "outputs": [
    {
     "data": {
      "text/plain": [
       "0.7426210384038437"
      ]
     },
     "execution_count": 127,
     "metadata": {},
     "output_type": "execute_result"
    }
   ],
   "source": [
    "r2_score(y_test_for_data.values,clf.predict(X_test_for_data),multioutput='variance_weighted')"
   ]
  },
  {
   "cell_type": "code",
   "execution_count": 128,
   "metadata": {},
   "outputs": [
    {
     "data": {
      "text/plain": [
       "0.6613030694511237"
      ]
     },
     "execution_count": 128,
     "metadata": {},
     "output_type": "execute_result"
    }
   ],
   "source": [
    "mean_squared_error(y_test_for_data.values,clf.predict(X_test_for_data))\n",
    "\n"
   ]
  },
  {
   "cell_type": "markdown",
   "metadata": {},
   "source": [
    "<blockquote>Такая модель себя уже оправдывает\n",
    "    </blockquote>\n"
   ]
  },
  {
   "cell_type": "markdown",
   "metadata": {},
   "source": [
    "## Добавление простой нейросети\n"
   ]
  },
  {
   "cell_type": "code",
   "execution_count": 107,
   "metadata": {},
   "outputs": [],
   "source": [
    "from sklearn.neural_network import MLPClassifier\n"
   ]
  },
  {
   "cell_type": "code",
   "execution_count": 108,
   "metadata": {},
   "outputs": [],
   "source": [
    "mpl=MLPClassifier(solver='lbfgs',activation='tanh',max_iter=10000,random_state=0)"
   ]
  },
  {
   "cell_type": "code",
   "execution_count": 109,
   "metadata": {},
   "outputs": [
    {
     "data": {
      "text/plain": [
       "MLPClassifier(activation='tanh', alpha=0.0001, batch_size='auto', beta_1=0.9,\n",
       "              beta_2=0.999, early_stopping=False, epsilon=1e-08,\n",
       "              hidden_layer_sizes=(100,), learning_rate='constant',\n",
       "              learning_rate_init=0.001, max_fun=15000, max_iter=10000,\n",
       "              momentum=0.9, n_iter_no_change=10, nesterovs_momentum=True,\n",
       "              power_t=0.5, random_state=0, shuffle=True, solver='lbfgs',\n",
       "              tol=0.0001, validation_fraction=0.1, verbose=False,\n",
       "              warm_start=False)"
      ]
     },
     "execution_count": 109,
     "metadata": {},
     "output_type": "execute_result"
    }
   ],
   "source": [
    "mpl.fit(X_train_for_data[[x for x in X_train_for_data.columns if x!='new_feat_2']],y_train_for_data)\n"
   ]
  },
  {
   "cell_type": "code",
   "execution_count": 110,
   "metadata": {},
   "outputs": [
    {
     "data": {
      "text/plain": [
       "0.99581589958159"
      ]
     },
     "execution_count": 110,
     "metadata": {},
     "output_type": "execute_result"
    }
   ],
   "source": [
    "mpl.score(X_train_for_data[[x for x in X_train_for_data.columns if x!='new_feat_2']],y_train_for_data)"
   ]
  },
  {
   "cell_type": "code",
   "execution_count": 111,
   "metadata": {},
   "outputs": [],
   "source": [
    "pred=mpl.predict(X_test_for_data[[x for x in X_train_for_data.columns if x!='new_feat_2']])"
   ]
  },
  {
   "cell_type": "code",
   "execution_count": 112,
   "metadata": {},
   "outputs": [
    {
     "data": {
      "text/plain": [
       "0.7129652152760885"
      ]
     },
     "execution_count": 112,
     "metadata": {},
     "output_type": "execute_result"
    }
   ],
   "source": [
    "r2_score(y_test_for_data.values,pred,multioutput='variance_weighted')"
   ]
  },
  {
   "cell_type": "code",
   "execution_count": 113,
   "metadata": {},
   "outputs": [],
   "source": [
    "X_train_scaled = scaler.fit_transform(X_train_for_data[[x for x in X_train_for_data.columns if x!='new_feat_2']])\n",
    "\n",
    "X_train_scaled = pd.DataFrame(X_train_scaled, columns=(x for x in X_train_for_data.columns if x!='new_feat_2'))\n",
    "\n",
    "X_test_scaled = scaler.transform(X_test_for_data[[x for x in X_train_for_data.columns if x!='new_feat_2']])\n",
    "\n",
    "X_test_scaled = pd.DataFrame(X_test_scaled, columns=[x for x in X_train_for_data.columns if x!='new_feat_2'])"
   ]
  },
  {
   "cell_type": "code",
   "execution_count": 114,
   "metadata": {},
   "outputs": [
    {
     "data": {
      "text/plain": [
       "0.8637801021649234"
      ]
     },
     "execution_count": 114,
     "metadata": {},
     "output_type": "execute_result"
    }
   ],
   "source": [
    "mpl.fit(X_train_scaled,y_train_for_data)\n",
    "pred=mpl.predict(X_test_scaled)\n",
    "r2_score(y_test_for_data.values,pred)"
   ]
  },
  {
   "cell_type": "code",
   "execution_count": 115,
   "metadata": {},
   "outputs": [
    {
     "data": {
      "text/plain": [
       "array([3, 1, 3, 3, 5, 2, 2, 2, 2, 4, 4, 3, 2, 2, 2, 2, 2, 8, 1, 2, 3, 6,\n",
       "       2, 5, 0, 2, 3, 4, 5, 2, 2, 6, 2, 1, 4, 4, 2, 2, 4, 2, 4, 3, 4, 3,\n",
       "       3, 3, 7, 1, 2, 2, 4, 2, 3, 3, 2, 2, 2, 7, 3, 1, 2, 2, 0, 2, 1, 4,\n",
       "       4, 2, 1, 4, 3, 3, 3, 1, 7, 4, 5, 5, 3, 1], dtype=int64)"
      ]
     },
     "execution_count": 115,
     "metadata": {},
     "output_type": "execute_result"
    }
   ],
   "source": [
    "y_test_for_data.values"
   ]
  },
  {
   "cell_type": "code",
   "execution_count": 116,
   "metadata": {},
   "outputs": [
    {
     "data": {
      "text/plain": [
       "array([3, 1, 3, 3, 5, 2, 2, 2, 2, 4, 4, 3, 2, 2, 3, 2, 2, 9, 1, 2, 3, 6,\n",
       "       2, 6, 3, 2, 3, 4, 4, 2, 2, 7, 2, 1, 5, 5, 2, 2, 4, 2, 4, 3, 4, 3,\n",
       "       3, 3, 6, 1, 2, 2, 3, 2, 3, 3, 2, 2, 2, 6, 3, 2, 1, 2, 2, 2, 1, 5,\n",
       "       4, 2, 1, 4, 3, 3, 3, 1, 7, 5, 6, 5, 3, 1], dtype=int64)"
      ]
     },
     "execution_count": 116,
     "metadata": {},
     "output_type": "execute_result"
    }
   ],
   "source": [
    "pred"
   ]
  },
  {
   "cell_type": "code",
   "execution_count": 105,
   "metadata": {},
   "outputs": [],
   "source": [
    "import mglearn"
   ]
  },
  {
   "cell_type": "code",
   "execution_count": null,
   "metadata": {},
   "outputs": [],
   "source": []
  }
 ],
 "metadata": {
  "kernelspec": {
   "display_name": "Python 3",
   "language": "python",
   "name": "python3"
  },
  "language_info": {
   "codemirror_mode": {
    "name": "ipython",
    "version": 3
   },
   "file_extension": ".py",
   "mimetype": "text/x-python",
   "name": "python",
   "nbconvert_exporter": "python",
   "pygments_lexer": "ipython3",
   "version": "3.7.7"
  }
 },
 "nbformat": 4,
 "nbformat_minor": 4
}
